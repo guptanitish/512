{
 "metadata": {
  "name": ""
 },
 "nbformat": 3,
 "nbformat_minor": 0,
 "worksheets": [
  {
   "cells": [
    {
     "cell_type": "code",
     "collapsed": false,
     "input": [
      "import matplotlib.pyplot as plt\n",
      "from os import listdir\n",
      "from os.path import isfile, join\n",
      " \n",
      "from sklearn.metrics import log_loss, confusion_matrix\n",
      "from sklearn.ensemble import RandomForestClassifier, ExtraTreesClassifier\n",
      "from sklearn.cross_validation import cross_val_score, KFold\n",
      "from sklearn.linear_model import LogisticRegression\n",
      " \n",
      "import numpy as np\n",
      "import os\n",
      "import os.path\n",
      " \n",
      "dt = np.dtype([('Id', 'a30'), ('Class', 'u2')])\n",
      "data = np.loadtxt('trainLabels.csv', skiprows=1, delimiter = ',', dtype=dt)\n",
      " \n",
      "X = np.zeros((data.shape[0], 2))\n",
      "Y = data['Class']\n",
      " \n",
      " \n",
      "for i, (Id, Class) in enumerate(data):\n",
      "    asmFile = 'train/'+Id[1:-1]+'.asm'\n",
      "    if os.path.isfile(asmFile):\n",
      "        X[i][0] = os.path.getsize(asmFile)\n",
      "    bytesFile = 'train/'+Id[1:-1]+'.bytes'\n",
      "    if os.path.isfile(bytesFile):\n",
      "        X[i][1] = os.path.getsize(bytesFile)"
     ],
     "language": "python",
     "metadata": {},
     "outputs": [],
     "prompt_number": 1
    },
    {
     "cell_type": "code",
     "collapsed": false,
     "input": [
      "plt.axis((0,1.6*10**8, 0, 2*10**7))\n",
      "plt.scatter(X[:,0], X[:,1], c=Y, alpha=0.5)\n",
      "#plt.show()"
     ],
     "language": "python",
     "metadata": {},
     "outputs": [
      {
       "metadata": {},
       "output_type": "pyout",
       "prompt_number": 5,
       "text": [
        "<matplotlib.collections.PathCollection at 0x7f365de4e690>"
       ]
      }
     ],
     "prompt_number": 5
    },
    {
     "cell_type": "code",
     "collapsed": false,
     "input": [
      "denseX = np.zeros((data.shape[0], 2))\n",
      "i = 0\n",
      "for elem in X:\n",
      "    if elem[0] != 0 and elem[1] != 0:\n",
      "        denseX[i] = elem\n",
      "        i = i + 1\n",
      "denseX = denseX[:i]\n",
      "Y=Y[:i]"
     ],
     "language": "python",
     "metadata": {},
     "outputs": [],
     "prompt_number": 2
    },
    {
     "cell_type": "code",
     "collapsed": false,
     "input": [
      "def trainCV(X,y, clf):\n",
      " \n",
      "    # Construct a kfolds object\n",
      "    kf = KFold(len(y),n_folds=10,shuffle=True)\n",
      "    #y_prob = np.zeros((len(y),3))\n",
      "    #y_pred = np.zeros(len(y))\n",
      "     \n",
      "    # Iterate through folds\n",
      "    for train_index, test_index in kf:\n",
      "        X_train, X_test = X[train_index], X[test_index]\n",
      "        #print X_train\n",
      "        #print \"test\", test_index\n",
      "        y_train = y[train_index]\n",
      " \n",
      "        clf.fit(X_train,y_train)\n",
      "        #predictions = clf.predict_proba(X_test)\n",
      "        #print \"predictions\", predictions\n",
      "        #y_prob[test_index] = predictions\n",
      "        #y_pred[test_index] = clf.predict(X_test)\n",
      "     \n",
      "    #return y_prob, y_pred"
     ],
     "language": "python",
     "metadata": {},
     "outputs": [],
     "prompt_number": 4
    },
    {
     "cell_type": "code",
     "collapsed": false,
     "input": [
      "#clf1 = LogisticRegression()\n",
      "clf2 = ExtraTreesClassifier(n_estimators=2000, max_features=None, min_samples_leaf=2,\n",
      "        min_samples_split=3, n_jobs=1, criterion='gini')\n",
      "trainCV(X,Y,clf2)\n",
      "#print '%.3f' % log_loss(Y, p2)\n",
      "#cm = confusion_matrix(Y, pred2)\n",
      "#print(cm)"
     ],
     "language": "python",
     "metadata": {},
     "outputs": [],
     "prompt_number": 5
    },
    {
     "cell_type": "code",
     "collapsed": false,
     "input": [
      "predictions = clf2.predict_proba(X)"
     ],
     "language": "python",
     "metadata": {},
     "outputs": [],
     "prompt_number": 9
    },
    {
     "cell_type": "code",
     "collapsed": false,
     "input": [
      "a,b=data[0]\n",
      "#a=a[1:-1]"
     ],
     "language": "python",
     "metadata": {},
     "outputs": [],
     "prompt_number": 30
    },
    {
     "cell_type": "code",
     "collapsed": false,
     "input": [
      "import numpy as np\n",
      "np.insert(predictions[0],0,\"hi\")\n",
      "print predictions[0]"
     ],
     "language": "python",
     "metadata": {},
     "outputs": [
      {
       "ename": "ValueError",
       "evalue": "could not convert string to float: hi",
       "output_type": "pyerr",
       "traceback": [
        "\u001b[0;31m---------------------------------------------------------------------------\u001b[0m\n\u001b[0;31mValueError\u001b[0m                                Traceback (most recent call last)",
        "\u001b[0;32m<ipython-input-35-128ee422cf64>\u001b[0m in \u001b[0;36m<module>\u001b[0;34m()\u001b[0m\n\u001b[1;32m      1\u001b[0m \u001b[0;32mimport\u001b[0m \u001b[0mnumpy\u001b[0m \u001b[0;32mas\u001b[0m \u001b[0mnp\u001b[0m\u001b[0;34m\u001b[0m\u001b[0m\n\u001b[0;32m----> 2\u001b[0;31m \u001b[0mnp\u001b[0m\u001b[0;34m.\u001b[0m\u001b[0minsert\u001b[0m\u001b[0;34m(\u001b[0m\u001b[0mpredictions\u001b[0m\u001b[0;34m[\u001b[0m\u001b[0;36m0\u001b[0m\u001b[0;34m]\u001b[0m\u001b[0;34m,\u001b[0m\u001b[0;36m0\u001b[0m\u001b[0;34m,\u001b[0m\u001b[0;34m\"hi\"\u001b[0m\u001b[0;34m)\u001b[0m\u001b[0;34m\u001b[0m\u001b[0m\n\u001b[0m\u001b[1;32m      3\u001b[0m \u001b[0;32mprint\u001b[0m \u001b[0mpredictions\u001b[0m\u001b[0;34m[\u001b[0m\u001b[0;36m0\u001b[0m\u001b[0;34m]\u001b[0m\u001b[0;34m\u001b[0m\u001b[0m\n",
        "\u001b[0;32m/usr/local/lib/python2.7/dist-packages/numpy-1.9.2-py2.7-linux-x86_64.egg/numpy/lib/function_base.pyc\u001b[0m in \u001b[0;36minsert\u001b[0;34m(arr, obj, values, axis)\u001b[0m\n\u001b[1;32m   3778\u001b[0m         \u001b[0;31m# There are some object array corner cases here, but we cannot avoid\u001b[0m\u001b[0;34m\u001b[0m\u001b[0;34m\u001b[0m\u001b[0m\n\u001b[1;32m   3779\u001b[0m         \u001b[0;31m# that:\u001b[0m\u001b[0;34m\u001b[0m\u001b[0;34m\u001b[0m\u001b[0m\n\u001b[0;32m-> 3780\u001b[0;31m         \u001b[0mvalues\u001b[0m \u001b[0;34m=\u001b[0m \u001b[0marray\u001b[0m\u001b[0;34m(\u001b[0m\u001b[0mvalues\u001b[0m\u001b[0;34m,\u001b[0m \u001b[0mcopy\u001b[0m\u001b[0;34m=\u001b[0m\u001b[0mFalse\u001b[0m\u001b[0;34m,\u001b[0m \u001b[0mndmin\u001b[0m\u001b[0;34m=\u001b[0m\u001b[0marr\u001b[0m\u001b[0;34m.\u001b[0m\u001b[0mndim\u001b[0m\u001b[0;34m,\u001b[0m \u001b[0mdtype\u001b[0m\u001b[0;34m=\u001b[0m\u001b[0marr\u001b[0m\u001b[0;34m.\u001b[0m\u001b[0mdtype\u001b[0m\u001b[0;34m)\u001b[0m\u001b[0;34m\u001b[0m\u001b[0m\n\u001b[0m\u001b[1;32m   3781\u001b[0m         \u001b[0;32mif\u001b[0m \u001b[0mindices\u001b[0m\u001b[0;34m.\u001b[0m\u001b[0mndim\u001b[0m \u001b[0;34m==\u001b[0m \u001b[0;36m0\u001b[0m\u001b[0;34m:\u001b[0m\u001b[0;34m\u001b[0m\u001b[0m\n\u001b[1;32m   3782\u001b[0m             \u001b[0;31m# broadcasting is very different here, since a[:,0,:] = ... behaves\u001b[0m\u001b[0;34m\u001b[0m\u001b[0;34m\u001b[0m\u001b[0m\n",
        "\u001b[0;31mValueError\u001b[0m: could not convert string to float: hi"
       ]
      }
     ],
     "prompt_number": 35
    },
    {
     "cell_type": "code",
     "collapsed": false,
     "input": [
      "import csv\n",
      "for i in range(len(predictions)):\n",
      "    probs = predictions[i]\n",
      "    idStr,b=data[0]\n",
      "    idStr=idStr[1:-1]\n",
      "    myfile = open('results.csv', 'wb')\n",
      "    wr = csv.writer(myfile, quoting=csv.QUOTE_ALL)\n",
      "    mylist = [idStr]\n",
      "    for prob in probs:\n",
      "        mylist.append(str(prob))\n",
      "    #print mylist\n",
      "    wr.writerow(mylist)\n",
      "    "
     ],
     "language": "python",
     "metadata": {},
     "outputs": [],
     "prompt_number": 39
    },
    {
     "cell_type": "code",
     "collapsed": false,
     "input": [],
     "language": "python",
     "metadata": {},
     "outputs": []
    }
   ],
   "metadata": {}
  }
 ]
}