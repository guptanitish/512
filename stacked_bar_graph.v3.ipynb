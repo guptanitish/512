{
 "metadata": {
  "kernelspec": {
   "display_name": "Python 3",
   "language": "python",
   "name": "python3"
  },
  "language_info": {
   "codemirror_mode": {
    "name": "ipython",
    "version": 3
   },
   "file_extension": ".py",
   "mimetype": "text/x-python",
   "name": "python",
   "nbconvert_exporter": "python",
   "pygments_lexer": "ipython3",
   "version": "3.4.3"
  },
  "name": ""
 },
 "nbformat": 3,
 "nbformat_minor": 0,
 "worksheets": [
  {
   "cells": [
    {
     "cell_type": "code",
     "collapsed": false,
     "input": [
      "import numpy as np\n",
      "import matplotlib.pyplot as plt\n",
      "import seaborn as sns\n",
      "sns.set_style(\"white\")\n",
      "\n",
      "N = 5\n",
      "menMeans   = (20, 35, 30, 35, 27)\n",
      "womenMeans = (25, 32, 34, 20, 25)\n",
      "transMeans = (25, 32, 34, 20, 25)\n",
      "\n",
      "ind = np.arange(N)    # the x locations for the groups\n",
      "width = 0.7       # the width of the bars: can also be len(x) sequence\n",
      "\n",
      "p1 = plt.bar(ind, menMeans,   width, color='r')\n",
      "p2 = plt.bar(ind, womenMeans, width, color='g',\n",
      "             bottom=menMeans)\n",
      "p3 = plt.bar(ind, transMeans, width, color='b',\n",
      "             bottom=womenMeans)\n",
      "\n",
      "plt.ylabel('Scores')\n",
      "plt.title('Scores by group and gender')\n",
      "plt.xticks(ind+width/3., ('G1', 'G2', 'G3', 'G4', 'G5') )\n",
      "plt.yticks(np.arange(0,100,10))\n",
      "plt.legend( (p1[0], p2[0],p3[0]), ('Men', 'Women','Trans') )\n",
      "\n",
      "plt.show()"
     ],
     "language": "python",
     "metadata": {},
     "outputs": [],
     "prompt_number": 1
    },
    {
     "cell_type": "code",
     "collapsed": false,
     "input": [
      "import matplotlib.pyplot as plt\n",
      "\n",
      "A = [10, 30., 60.]\n",
      "B = [5., 25., 70.]\n",
      "C = [5., 25., 70.]\n",
      "X = range(3)\n",
      "\n",
      "plt.bar(X, A, color = 'b')\n",
      "plt.bar(X, B, color = 'r', bottom = A)\n",
      "plt.bar(X, C, color = 'g', bottom = B)\n",
      "plt.show()"
     ],
     "language": "python",
     "metadata": {},
     "outputs": [],
     "prompt_number": 3
    },
    {
     "cell_type": "code",
     "collapsed": true,
     "input": [],
     "language": "python",
     "metadata": {},
     "outputs": []
    }
   ],
   "metadata": {}
  }
 ]
}