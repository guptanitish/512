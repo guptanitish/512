{
 "cells": [
  {
   "cell_type": "code",
   "execution_count": 16,
   "metadata": {
    "collapsed": true
   },
   "outputs": [],
   "source": [
    "import pickle\n",
    "import re\n",
    "import os, os.path\n",
    "import pandas as pd\n",
    "import pickle\n",
    "import sys\n",
    "\n",
    "#returns a list \n",
    "#searches for ' opcode ' from a specified list of opcodes\n",
    "#needs:\n",
    "output_path='/home/rishoo/Downloads/data/pickle/dict.txt' #where to store the output\n",
    "label_csv_path='/home/rishoo/Downloads/data/trainLabels.csv' #path to csv file mapping filenames to labels\n",
    "data_path = '/home/rishoo/Downloads/data/train_tiny_subset/' #path to the data\n",
    "raw_opcode_list=['mov','add','sub'] #list of opcodes to filter\n",
    "\n",
    "#doubts:\n",
    "# do i need to filter with .text .much .CODE for beginning of text?\n",
    "#latin-1 encoding being used instead of utf-8... wtf!! "
   ]
  },
  {
   "cell_type": "code",
   "execution_count": 17,
   "metadata": {
    "collapsed": false
   },
   "outputs": [
    {
     "name": "stdout",
     "output_type": "stream",
     "text": [
      "extracting labels..\n",
      "done extracting labels..\n"
     ]
    }
   ],
   "source": [
    "#build label dict - filename->labels\n",
    "print(\"extracting labels..\")\n",
    "def get_labels(path,label_d):    \n",
    "    df= pd.read_csv(path)\n",
    "    for index, row in df.iterrows():\n",
    "        label_d[row['Id']]=row['Class']\n",
    "    \n",
    "label_d=dict()\n",
    "get_labels(label_csv_path,label_d)\n",
    "print(\"done extracting labels..\")"
   ]
  },
  {
   "cell_type": "code",
   "execution_count": 18,
   "metadata": {
    "collapsed": false
   },
   "outputs": [
    {
     "name": "stdout",
     "output_type": "stream",
     "text": [
      "Begin...\n",
      "Processing...\t 0 \tlabel:  2 \t 283STBsQaI7Pw9qf0tjy.asm \t\n",
      "Processing...\t 1 \tlabel:  3 \t 279EOCqmnPGMfixzTuwJ.asm \t\n",
      "Processing...\t 2 \tlabel:  1 \t 175ZU8ClOsnifz03ybcX.asm \t\n",
      "Processing...\t 3 \tlabel:  9 \t 365qzFMSdZmIU1YbfoAx.asm \t\n",
      "Processing...\t 4 \tlabel:  6 \t 387RdPoyKxJIZr1YNcO6.asm \t\n",
      "Processing...\t 5 \tlabel:  2 \t 280npuOwNHdxPDVmAyLT.asm \t\n",
      "Processing...\t 6 \tlabel:  2 \t 495fFS8xhenO7WqZX6uw.asm \t\n",
      "Processing...\t 7 \tlabel:  9 \t 2617zwnbHU3jrseQZim5.asm \t\n",
      "Processing...\t 8 \tlabel:  8 \t 250wWOtELFspbVRJAaNn.asm \t\n",
      "Processing...\t 9 \tlabel:  3 \t 30259LfMxFdATBcqNOi1.asm \t\n",
      "Processing...\t 10 \tlabel:  3 \t 129LWuNOIS0RjQnq5om6.asm \t\n",
      "Processing...\t 11 \tlabel:  8 \t 351BNOEjS9pHWAqhJQdD.asm \t\n",
      "Processing...\t 12 \tlabel:  1 \t 418XPavxNpslKmeoTUwJ.asm \t\n",
      "Processing...\t 13 \tlabel:  3 \t 409FLy5cim8qgxjYobET.asm \t\n",
      "Processing...\t 14 \tlabel:  9 \t 294DyEi30U6TVeFSrClm.asm \t\n",
      "Processing...\t 15 \tlabel:  2 \t 369xrHyDKegPqFMYWQJu.asm \t\n",
      "Processing...\t 16 \tlabel:  2 \t 421g5mO6zfBFPM8KwXh9.asm \t\n",
      "Processing...\t 17 \tlabel:  1 \t 420SDzWFNamqIiHBYjPu.asm \t\n",
      "Processing...\t 18 \tlabel:  9 \t 148bgAqCj3NzaHwSP0Gu.asm \t\n",
      "Processing...\t 19 \tlabel:  1 \t 2037kCYJ5fZKPw4oDGX1.asm \t\n",
      "Processing...\t 20 \tlabel:  8 \t 426c9FYfeVQbJnygpdKH.asm \t\n",
      "Processing...\t 21 \tlabel:  9 \t 198PdXRpGVZAzYxCrF0e.asm \t\n",
      "Processing...\t 22 \tlabel:  8 \t 295nPpgmDUkQw4TScqfh.asm \t\n",
      "Processing...\t 23 \tlabel:  3 \t 194Iy5xv8QRz7XMTnmAk.asm \t\n",
      "Done!\n"
     ]
    }
   ],
   "source": [
    "\n",
    "#making list of dict to store counts\n",
    "\n",
    "opcode_dict_l=list()\n",
    "for i in range(0,9):\n",
    "    opcode_dict=dict()\n",
    "    for item in raw_opcode_list:\n",
    "        formatted_opcode=' '+item+' '\n",
    "        opcode_dict[formatted_opcode]=0\n",
    "    opcode_dict_l.append(opcode_dict)\n",
    "\n",
    "def count_opcodes(directory_path,filename):\n",
    "    #byte_limit=100\n",
    "    try:\n",
    "        path=directory_path+filename\n",
    "        openfile = open(path,'r',encoding='latin-1')\n",
    "        #openfile = open(path,'rb')\n",
    "        l_lines=openfile.readlines()\n",
    "        count=0\n",
    "        for line in l_lines:\n",
    "            #match_text=re.search(\"text:\",line)\n",
    "            \n",
    "            #if match_text:\n",
    "                for opcode in opcode_dict.keys():\n",
    "                    #match_opcode=None\n",
    "                    match_opcode=re.search(opcode,line)\n",
    "                    if match_opcode:\n",
    "                    #print (match.group())\n",
    "                        filename_key= filename[:-4]\n",
    "                        opcode_dict_l[label_d[filename_key]-1][opcode]+=1\n",
    "                        break\n",
    "        openfile.close()\n",
    "    except IOError:\n",
    "        print (\"Could not open file!\")\n",
    "\n",
    "count=0\n",
    "print(\"Begin...\")\n",
    "for filename in os.listdir(data_path):\n",
    "    if((filename[-4:])=='.asm'): #.swp files!\n",
    "        filename_key= filename[:-4]\n",
    "        label=label_d[filename_key]  \n",
    "        print(\"Processing...\\t\",count,\"\\tlabel: \",label,\"\\t\",filename,\"\\t\")\n",
    "        sys.stdout.flush()\n",
    "        count_opcodes(data_path,filename)\n",
    "        count+=1\n",
    "\n",
    "print(\"Done!\")\n"
   ]
  },
  {
   "cell_type": "code",
   "execution_count": 19,
   "metadata": {
    "collapsed": false
   },
   "outputs": [
    {
     "name": "stdout",
     "output_type": "stream",
     "text": [
      "Pickling...\n",
      "Done Pickling...\n"
     ]
    },
    {
     "data": {
      "text/plain": [
       "[{' add ': 21897, ' mov ': 66121, ' sub ': 2918},\n",
       " {' add ': 1220, ' mov ': 49810, ' sub ': 982},\n",
       " {' add ': 702, ' mov ': 708, ' sub ': 245},\n",
       " {' add ': 0, ' mov ': 0, ' sub ': 0},\n",
       " {' add ': 0, ' mov ': 0, ' sub ': 0},\n",
       " {' add ': 157, ' mov ': 584, ' sub ': 127},\n",
       " {' add ': 0, ' mov ': 0, ' sub ': 0},\n",
       " {' add ': 1166, ' mov ': 8113, ' sub ': 997},\n",
       " {' add ': 1642, ' mov ': 9642, ' sub ': 1572}]"
      ]
     },
     "execution_count": 19,
     "metadata": {},
     "output_type": "execute_result"
    }
   ],
   "source": [
    "print(\"Pickling...\")\n",
    "dumpfile=open(output_path,'wb')\n",
    "pickle.dump(opcode_dict_l,dumpfile)\n",
    "dumpfile.close()\n",
    "unpickled_file=open(output_path,'rb')\n",
    "print(\"Done Pickling...\")\n",
    "unpickled_dict=pickle.load(unpickled_file)\n",
    "unpickled_dict"
   ]
  },
  {
   "cell_type": "code",
   "execution_count": null,
   "metadata": {
    "collapsed": true
   },
   "outputs": [],
   "source": []
  },
  {
   "cell_type": "code",
   "execution_count": null,
   "metadata": {
    "collapsed": true
   },
   "outputs": [],
   "source": []
  }
 ],
 "metadata": {
  "kernelspec": {
   "display_name": "Python 3",
   "language": "python",
   "name": "python3"
  },
  "language_info": {
   "codemirror_mode": {
    "name": "ipython",
    "version": 3
   },
   "file_extension": ".py",
   "mimetype": "text/x-python",
   "name": "python",
   "nbconvert_exporter": "python",
   "pygments_lexer": "ipython3",
   "version": "3.4.2"
  }
 },
 "nbformat": 4,
 "nbformat_minor": 0
}
