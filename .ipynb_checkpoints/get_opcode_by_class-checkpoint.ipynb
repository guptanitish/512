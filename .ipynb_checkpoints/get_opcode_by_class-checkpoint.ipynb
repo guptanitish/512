{
 "metadata": {
  "kernelspec": {
   "display_name": "Python 3",
   "language": "python",
   "name": "python3"
  },
  "language_info": {
   "codemirror_mode": {
    "name": "ipython",
    "version": 3
   },
   "file_extension": ".py",
   "mimetype": "text/x-python",
   "name": "python",
   "nbconvert_exporter": "python",
   "pygments_lexer": "ipython3",
   "version": "3.4.3"
  },
  "name": ""
 },
 "nbformat": 3,
 "nbformat_minor": 0,
 "worksheets": [
  {
   "cells": [
    {
     "cell_type": "code",
     "collapsed": true,
     "input": [
      "#dictionary of opcodes per file\n",
      "\n",
      "import pickle\n",
      "import re\n",
      "import os, os.path\n",
      "import pandas as pd\n",
      "import pickle\n",
      "import sys\n",
      "from sklearn.cross_validation import train_test_split\n",
      "import io\n",
      "'''\n",
      "#returns a list \n",
      "#searches for ' opcode ' from a specified list of opcodes\n",
      "#needs:\n",
      "output_path='/home/rishoo/Downloads/data/pickle/dict.txt' #where to store the output\n",
      "label_csv_path='/home/rishoo/Downloads/data/trainLabels.csv' #path to csv file mapping filenames to labels\n",
      "data_path = '/home/rishoo/Downloads/data/train_tiny_subset/' #path to the data\n",
      "raw_opcode_list=['mov','add','sub'] #list of opcodes to filter\n",
      "'''\n",
      "output_path='/home/stufs1/nitigupta/512/results/dict_10percent.txt' #where to store the output\n",
      "label_csv_path='/home/stufs1/nitigupta/512/data/trainLabels.csv' #path to csv file mapping filenames to labels\n",
      "data_path = '/home/stufs1/nitigupta/512/data/train/' #path to the data\n",
      "raw_opcode_list=['mov','add','sub','imul'] #list of opcodes to filter\n",
      " "
     ],
     "language": "python",
     "metadata": {},
     "outputs": [],
     "prompt_number": 1
    },
    {
     "cell_type": "code",
     "collapsed": false,
     "input": [
      "df_entire= pd.read_csv(label_csv_path)\n",
      "a_train, a_test= train_test_split(df_entire,test_size=0.001, random_state=42)\n",
      "df_test=pd.DataFrame.from_records(a_test)"
     ],
     "language": "python",
     "metadata": {},
     "outputs": [],
     "prompt_number": 2
    },
    {
     "cell_type": "code",
     "collapsed": false,
     "input": [
      "#build label dict - filename->labels\n",
      "print(\"extracting labels..\")\n",
      "def get_labels(path,label_d,df):    \n",
      "    #df= pd.read_csv(path)\n",
      "    for index, row in df.iterrows():\n",
      "        label_d[row[0]]=row[1]\n",
      "    \n",
      "label_d=dict()\n",
      "get_labels(label_csv_path,label_d,df_test)\n",
      "print(\"done extracting labels..\")"
     ],
     "language": "python",
     "metadata": {},
     "outputs": [
      {
       "output_type": "stream",
       "stream": "stdout",
       "text": [
        "extracting labels..\n",
        "done extracting labels..\n"
       ]
      }
     ],
     "prompt_number": 3
    },
    {
     "cell_type": "code",
     "collapsed": false,
     "input": [
      "\n",
      "#making list of dict to store counts\n",
      "\n",
      "opcode_dict_l=list()\n",
      "for i in range(0,9):\n",
      "    opcode_dict=dict()\n",
      "    for item in raw_opcode_list:\n",
      "        formatted_opcode=' '+item+' '\n",
      "        opcode_dict[formatted_opcode]=0\n",
      "    opcode_dict_l.append(opcode_dict)\n",
      "\n",
      "def count_opcodes(directory_path,filename):\n",
      "    #byte_limit=100\n",
      "    try:\n",
      "        path=directory_path+filename\n",
      "        openfile = io.open(path,'r',encoding='latin-1')\n",
      "        #openfile = open(path,'rb')\n",
      "        l_lines=openfile.readlines()\n",
      "        count=0\n",
      "        for line in l_lines:\n",
      "            #match_text=re.search(\"text:\",line)\n",
      "            \n",
      "            #if match_text:\n",
      "                for opcode in opcode_dict.keys():\n",
      "                    #match_opcode=None\n",
      "                    match_opcode=re.search(opcode,line)\n",
      "                    if match_opcode:\n",
      "                    #print (match.group())\n",
      "                        filename_key= filename[:-4]\n",
      "                        opcode_dict_l[label_d[filename_key]-1][opcode]+=1\n",
      "                        break\n",
      "        openfile.close()\n",
      "    except IOError:\n",
      "        print (\"Could not open file!\")\n",
      "\n",
      "count=0\n",
      "print(\"Begin...\")\n",
      "for filename in os.listdir(data_path):\n",
      "    if((filename[-4:])=='.asm'): #.swp files!\n",
      "        filename_key= filename[:-4]\n",
      "        if((label_d.get(filename_key,-1))!=-1):\n",
      "            label=label_d[filename_key]  \n",
      "            print(\"Processing...\\t\",count,\"\\tlabel: \",label,\"\\t\",filename,\"\\t\")\n",
      "            sys.stdout.flush()\n",
      "            count_opcodes(data_path,filename)\n",
      "            count+=1\n",
      "\n",
      "print(\"Done!\")\n"
     ],
     "language": "python",
     "metadata": {},
     "outputs": [
      {
       "output_type": "stream",
       "stream": "stdout",
       "text": [
        "Begin...\n",
        "('Processing...\\t', 0, '\\tlabel: ', 3, '\\t', 'cpdsREmet3FyD1oYZVIn.asm', '\\t')\n"
       ]
      },
      {
       "output_type": "stream",
       "stream": "stdout",
       "text": [
        "('Processing...\\t', 1, '\\tlabel: ', 3, '\\t', 'E4lBhCXvziDf2rU3GM7t.asm', '\\t')\n"
       ]
      },
      {
       "output_type": "stream",
       "stream": "stdout",
       "text": [
        "('Processing...\\t', 2, '\\tlabel: ', 2, '\\t', 'c64G93TVZM258AUDSCka.asm', '\\t')\n"
       ]
      },
      {
       "output_type": "stream",
       "stream": "stdout",
       "text": [
        "('Processing...\\t', 3, '\\tlabel: ', 1, '\\t', 'gGbvOKAXCB5047PEf6aS.asm', '\\t')\n"
       ]
      },
      {
       "output_type": "stream",
       "stream": "stdout",
       "text": [
        "('Processing...\\t', 4, '\\tlabel: ', 2, '\\t', '283STBsQaI7Pw9qf0tjy.asm', '\\t')\n"
       ]
      },
      {
       "output_type": "stream",
       "stream": "stdout",
       "text": [
        "('Processing...\\t', 5, '\\tlabel: ', 8, '\\t', '6kgpyCID8l4Pw7BYHTjM.asm', '\\t')\n"
       ]
      },
      {
       "output_type": "stream",
       "stream": "stdout",
       "text": [
        "('Processing...\\t', 6, '\\tlabel: ', 3, '\\t', 'CW6cHidJb35VTMQ0jms7.asm', '\\t')\n"
       ]
      },
      {
       "output_type": "stream",
       "stream": "stdout",
       "text": [
        "('Processing...\\t', 7, '\\tlabel: ', 4, '\\t', 'BAGfw1SeoPIqyhTErbit.asm', '\\t')\n"
       ]
      },
      {
       "output_type": "stream",
       "stream": "stdout",
       "text": [
        "('Processing...\\t', 8, '\\tlabel: ', 1, '\\t', 'F3Zj217CLRxgi0NyHMY4.asm', '\\t')\n"
       ]
      },
      {
       "output_type": "stream",
       "stream": "stdout",
       "text": [
        "('Processing...\\t', 9, '\\tlabel: ', 1, '\\t', 'k0DVI4svgBRA8pjlf9M1.asm', '\\t')\n"
       ]
      },
      {
       "output_type": "stream",
       "stream": "stdout",
       "text": [
        "('Processing...\\t', 10, '\\tlabel: ', 9, '\\t', 'FSqi0ZaPveb5jMxtBcfs.asm', '\\t')\n"
       ]
      },
      {
       "output_type": "stream",
       "stream": "stdout",
       "text": [
        "Done!\n"
       ]
      }
     ],
     "prompt_number": 4
    },
    {
     "cell_type": "code",
     "collapsed": false,
     "input": [
      "print(\"Pickling...\")\n",
      "dumpfile=open(output_path,'wb')\n",
      "pickle.dump(opcode_dict_l,dumpfile)\n",
      "dumpfile.close()\n",
      "unpickled_file=open(output_path,'rb')\n",
      "print(\"Done Pickling...\")\n",
      "unpickled_dict=pickle.load(unpickled_file)\n",
      "unpickled_dict"
     ],
     "language": "python",
     "metadata": {},
     "outputs": [
      {
       "output_type": "stream",
       "stream": "stdout",
       "text": [
        "Pickling...\n",
        "Done Pickling...\n"
       ]
      },
      {
       "metadata": {},
       "output_type": "pyout",
       "prompt_number": 5,
       "text": [
        "[{' add ': 1310, ' imul ': 22, ' mov ': 18403, ' sub ': 921},\n",
        " {' add ': 506, ' imul ': 3175, ' mov ': 33844, ' sub ': 256},\n",
        " {' add ': 515, ' imul ': 0, ' mov ': 512, ' sub ': 178},\n",
        " {' add ': 460, ' imul ': 0, ' mov ': 429, ' sub ': 259},\n",
        " {' add ': 0, ' imul ': 0, ' mov ': 0, ' sub ': 0},\n",
        " {' add ': 0, ' imul ': 0, ' mov ': 0, ' sub ': 0},\n",
        " {' add ': 0, ' imul ': 0, ' mov ': 0, ' sub ': 0},\n",
        " {' add ': 133, ' imul ': 4, ' mov ': 2259, ' sub ': 150},\n",
        " {' add ': 308, ' imul ': 107, ' mov ': 1516, ' sub ': 288}]"
       ]
      }
     ],
     "prompt_number": 5
    },
    {
     "cell_type": "code",
     "collapsed": true,
     "input": [],
     "language": "python",
     "metadata": {},
     "outputs": []
    },
    {
     "cell_type": "code",
     "collapsed": true,
     "input": [],
     "language": "python",
     "metadata": {},
     "outputs": []
    }
   ],
   "metadata": {}
  }
 ]
}