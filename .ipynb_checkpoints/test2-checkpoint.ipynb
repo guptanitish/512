{
 "metadata": {
  "name": ""
 },
 "nbformat": 3,
 "nbformat_minor": 0,
 "worksheets": [
  {
   "cells": [
    {
     "cell_type": "code",
     "collapsed": false,
     "input": [
      "import pickle\n",
      "import re\n",
      "import os, os.path\n",
      "import pandas as pd\n",
      "import pickle\n",
      "import sys\n",
      "from sklearn.cross_validation import train_test_split\n",
      "import io\n",
      "'''\n",
      "#returns a list \n",
      "#searches for ' opcode ' from a specified list of opcodes\n",
      "#needs:\n",
      "output_path='/home/rishoo/Downloads/data/pickle/dict.txt' #where to store the output\n",
      "label_csv_path='/home/rishoo/Downloads/data/trainLabels.csv' #path to csv file mapping filenames to labels\n",
      "data_path = '/home/rishoo/Downloads/data/train_tiny_subset/' #path to the data\n",
      "raw_opcode_list=['mov','add','sub'] #list of opcodes to filter\n",
      "'''\n",
      "output_path='/home/stufs1/nitigupta/512/results/opcodes.txt' #where to store the output\n",
      "label_csv_path='/home/stufs1/nitigupta/512/data/trainLabels.csv' #path to csv file mapping filenames to labels\n",
      "data_path = '/home/stufs1/nitigupta/512/data/train/' #path to the data\n",
      "raw_opcode_list=['mov','add','sub','imul'] #list of opcodes to filter\n",
      "\n",
      "#doubts:\n",
      "# do i need to filter with .text .much .CODE for beginning of text?\n",
      "#latin-1 encoding being used instead of utf-8... wtf!! "
     ],
     "language": "python",
     "metadata": {},
     "outputs": [],
     "prompt_number": 2
    },
    {
     "cell_type": "code",
     "collapsed": false,
     "input": [
      "unpickled_file=open(output_path,'rb')\n",
      "unpickled_dict=pickle.load(unpickled_file)\n"
     ],
     "language": "python",
     "metadata": {},
     "outputs": [],
     "prompt_number": 5
    },
    {
     "cell_type": "code",
     "collapsed": false,
     "input": [
      "l=list()\n",
      "l1=list()\n",
      "for key in unpickled_dict.keys():\n",
      "    l.append(key)\n",
      "for val in l:\n",
      "    #if \"\\t\" not in val:\n",
      "    l1.append(val.strip())\n",
      "print(len(l1))\n"
     ],
     "language": "python",
     "metadata": {},
     "outputs": [
      {
       "output_type": "stream",
       "stream": "stdout",
       "text": [
        "1297\n"
       ]
      }
     ],
     "prompt_number": 28
    },
    {
     "cell_type": "code",
     "collapsed": false,
     "input": [
      "import opcodes.x86 as op_32\n",
      "import opcodes.x86_64 as op_64\n",
      "in_set=op_32.read_instruction_set(\"/home/stufs1/nitigupta/512/code/lib/x86.xml\")\n",
      "#in_set_64=op_64.read_instruction_set(\"/home/stufs1/nitigupta/512/code/lib/x86_64.xml\")\n",
      "inst_set_dict=dict()\n",
      "\n",
      "for i in range(0,len(in_set)):\n",
      "    inst_set_dict[in_set[i].name.lower()]=1\n",
      "len(inst_set_dict)"
     ],
     "language": "python",
     "metadata": {},
     "outputs": [
      {
       "metadata": {},
       "output_type": "pyout",
       "prompt_number": 25,
       "text": [
        "972"
       ]
      }
     ],
     "prompt_number": 25
    },
    {
     "cell_type": "code",
     "collapsed": false,
     "input": [
      "\n",
      "#print (len(in_set))\n",
      "instr_present=dict()\n",
      "for key in unpickled_dict.keys():\n",
      "    #if \"\\t\" in str2:\n",
      "    if key.strip() in inst_set_dict:\n",
      "        instr_present[key.strip()]=1\n",
      "'''\n",
      "for i in range(0,len(l1)):\n",
      "    if l1[i] in inst_set_dict:\n",
      "        existing_instr[l1[i]]=1\n",
      "'''\n",
      "\n",
      "len(instr_present)\n",
      "\n"
     ],
     "language": "python",
     "metadata": {},
     "outputs": [
      {
       "metadata": {},
       "output_type": "pyout",
       "prompt_number": 32,
       "text": [
        "146"
       ]
      }
     ],
     "prompt_number": 32
    },
    {
     "cell_type": "code",
     "collapsed": false,
     "input": [],
     "language": "python",
     "metadata": {},
     "outputs": []
    }
   ],
   "metadata": {}
  }
 ]
}