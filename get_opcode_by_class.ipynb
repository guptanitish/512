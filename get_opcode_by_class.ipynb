{
 "metadata": {
  "kernelspec": {
   "display_name": "Python 3",
   "language": "python",
   "name": "python3"
  },
  "language_info": {
   "codemirror_mode": {
    "name": "ipython",
    "version": 3
   },
   "file_extension": ".py",
   "mimetype": "text/x-python",
   "name": "python",
   "nbconvert_exporter": "python",
   "pygments_lexer": "ipython3",
   "version": "3.4.3"
  },
  "name": ""
 },
 "nbformat": 3,
 "nbformat_minor": 0,
 "worksheets": [
  {
   "cells": [
    {
     "cell_type": "code",
     "collapsed": true,
     "input": [
      "import pickle\n",
      "import re\n",
      "import os, os.path\n",
      "import pandas as pd\n",
      "import pickle\n",
      "import sys\n",
      "from sklearn.cross_validation import train_test_split\n",
      "import io\n",
      "'''\n",
      "#returns a list \n",
      "#searches for ' opcode ' from a specified list of opcodes\n",
      "#needs:\n",
      "output_path='/home/rishoo/Downloads/data/pickle/dict.txt' #where to store the output\n",
      "label_csv_path='/home/rishoo/Downloads/data/trainLabels.csv' #path to csv file mapping filenames to labels\n",
      "data_path = '/home/rishoo/Downloads/data/train_tiny_subset/' #path to the data\n",
      "raw_opcode_list=['mov','add','sub'] #list of opcodes to filter\n",
      "'''\n",
      "output_path='/home/stufs1/nitigupta/512/results/dict.txt' #where to store the output\n",
      "label_csv_path='/home/stufs1/nitigupta/512/data/trainLabels.csv' #path to csv file mapping filenames to labels\n",
      "data_path = '/home/stufs1/nitigupta/512/data/train/' #path to the data\n",
      "raw_opcode_list=['mov','add','sub','imul'] #list of opcodes to filter\n",
      "\n",
      "#doubts:\n",
      "# do i need to filter with .text .much .CODE for beginning of text?\n",
      "#latin-1 encoding being used instead of utf-8... wtf!! "
     ],
     "language": "python",
     "metadata": {},
     "outputs": [],
     "prompt_number": 13
    },
    {
     "cell_type": "code",
     "collapsed": false,
     "input": [
      "df_entire= pd.read_csv(label_csv_path)\n",
      "a_train, a_test= train_test_split(df_entire,test_size=0.01, random_state=42)\n",
      "df_test=pd.DataFrame.from_records(a_test)"
     ],
     "language": "python",
     "metadata": {},
     "outputs": [],
     "prompt_number": 18
    },
    {
     "cell_type": "code",
     "collapsed": false,
     "input": [
      "#build label dict - filename->labels\n",
      "print(\"extracting labels..\")\n",
      "def get_labels(path,label_d,df):    \n",
      "    #df= pd.read_csv(path)\n",
      "    for index, row in df.iterrows():\n",
      "        label_d[row[0]]=row[1]\n",
      "    \n",
      "label_d=dict()\n",
      "get_labels(label_csv_path,label_d,df_test)\n",
      "print(\"done extracting labels..\")"
     ],
     "language": "python",
     "metadata": {},
     "outputs": [
      {
       "output_type": "stream",
       "stream": "stdout",
       "text": [
        "extracting labels..\n",
        "done extracting labels..\n"
       ]
      }
     ],
     "prompt_number": 21
    },
    {
     "cell_type": "code",
     "collapsed": false,
     "input": [
      "label_d"
     ],
     "language": "python",
     "metadata": {},
     "outputs": [
      {
       "metadata": {},
       "output_type": "pyout",
       "prompt_number": 22,
       "text": [
        "{'06arUi9q3wHS2C8RZxeB': 3,\n",
        " '0HcZRmLi9VTpuQJCoXny': 2,\n",
        " '0X6U3SfcmbuZNodnH9qL': 1,\n",
        " '0YRDpBU67WrqEugkXlnd': 1,\n",
        " '0bjN3Kgw5OATSreRmEdi': 9,\n",
        " '0fxgjYEClPL1BDbcshzJ': 3,\n",
        " '0hBIiRpkMZtoYj3lcDLa': 2,\n",
        " '0sM6DQlxcP3oAfd9ZVBT': 6,\n",
        " '19b2dlEtWXyeiqc67Bof': 3,\n",
        " '1awKqmMpQUblukHhBy7n': 3,\n",
        " '283STBsQaI7Pw9qf0tjy': 2,\n",
        " '2NYAUVgtXPpbJzRQO7Cl': 2,\n",
        " '2bcyFiRa8zKBolCGZSvO': 1,\n",
        " '2gUPy7nNQD4Fjkv69ose': 3,\n",
        " '30Sj9rlHUZveV8FN1k54': 2,\n",
        " '3PmaDdlEYWrhG6e480xp': 3,\n",
        " '3vG9FbUS2P8Xcfsj4WLw': 3,\n",
        " '3yB5s1ZCvPmpgernQFKw': 3,\n",
        " '4UblA5oWqLNmdVF8sDw0': 9,\n",
        " '4YyEodi9umUntvbeNWw5': 2,\n",
        " '4ac5qdOrj96X8SglAGZL': 9,\n",
        " '4jKTeHu7YgAhDG8iBoxW': 6,\n",
        " '67HtTa9RSq1vKfcA2PXB': 1,\n",
        " '6KDiSvjJq215CNuoGzH8': 1,\n",
        " '6kgpyCID8l4Pw7BYHTjM': 8,\n",
        " '7ED0sQObTcBd6kL8IwJU': 2,\n",
        " '7HAqkJSVFhjle8tn412s': 3,\n",
        " '7UEqLpy8zmkvfA2e5Nob': 8,\n",
        " '81jMeyEZiOpJkCuBlDYg': 4,\n",
        " '8W7PJBs3cfumHjh6Mz5Z': 1,\n",
        " '8gtaP24AeukjmiJUoCKE': 1,\n",
        " '9EbqOQ5sCRtSVzg3DyMn': 3,\n",
        " '9HVsJ2mzdvpb14ySg5qc': 3,\n",
        " '9NcndSbt1XFgpYO203D5': 2,\n",
        " '9U2dK1jG06Y8kNnPZWM5': 1,\n",
        " '9WC4pIz3EqV0tOXgQio8': 1,\n",
        " 'ANPyxi13XKGvsF5zlQqW': 7,\n",
        " 'APmyDeQT238osZgb7lhN': 1,\n",
        " 'AgF6YUNOyGmRPxSnTifM': 3,\n",
        " 'Agr9Oh1eLIP0QCpRNkUt': 3,\n",
        " 'B0hTZnAfwPCkzKsY4yIb': 2,\n",
        " 'B4kQoTYWxbXcEzrvKDZP': 2,\n",
        " 'BAGfw1SeoPIqyhTErbit': 4,\n",
        " 'BC9hzqbTa0OIsePYiND6': 9,\n",
        " 'BMmCz4hZdgYjcbQD5oai': 3,\n",
        " 'BUGAnop1NDYTh0txE8d6': 8,\n",
        " 'C2Tt45wU1BVuoIehLEqp': 1,\n",
        " 'C6OEvgQ2n5F93Tjhoemt': 6,\n",
        " 'CGjAmy85OhvrlswNZVKt': 8,\n",
        " 'CW6cHidJb35VTMQ0jms7': 3,\n",
        " 'D4HgKrPeUyIlGFMv1tVR': 9,\n",
        " 'DReqVt7Hxa5plh8v0QP9': 8,\n",
        " 'DhWInBmVuLfEF18YRPHZ': 7,\n",
        " 'Dm2UHLlhcoiM0xGYwVSN': 4,\n",
        " 'E4lBhCXvziDf2rU3GM7t': 3,\n",
        " 'E9oGIQiNlMZgCKxSW8wj': 3,\n",
        " 'EJOGkzrY3FVAtHgmKicu': 3,\n",
        " 'EhR93mQKyvaSF5euIlik': 2,\n",
        " 'F3Zj217CLRxgi0NyHMY4': 1,\n",
        " 'FB7P8fucig2oslTCEept': 2,\n",
        " 'FNMk3wvliVuQLCe9OTDg': 3,\n",
        " 'FP7u6VsNE8m1GCjBiXfS': 8,\n",
        " 'FSqi0ZaPveb5jMxtBcfs': 9,\n",
        " 'FURh5Tif1jXCzZGqlHyN': 1,\n",
        " 'FYPXNW2S6eO9zMVR3HaK': 3,\n",
        " 'Fl9o1QycpzBuktRXSwx7': 6,\n",
        " 'FpfoxH3CNAgl9iBY5naM': 9,\n",
        " 'Ft0dsjHpwqcWoXK6ST7n': 4,\n",
        " 'GkA3vhfoHbwdeKPBl4ZR': 9,\n",
        " 'H95BXlwhOQPirqy4YoRn': 6,\n",
        " 'I3hyQOBZM0Kxpmj6a74D': 3,\n",
        " 'ID5Ogjr8pR9ncoNhKZHi': 2,\n",
        " 'Iy6lQgsbZ9q0tfrT1hMe': 9,\n",
        " 'JLS67VuPi0hyto3e5g8w': 9,\n",
        " 'JwXPAuRDQva5FYe8t30z': 3,\n",
        " 'K1PseDmpHfo8OuhUJtA5': 3,\n",
        " 'KWg8T3NOYaQBF0tMqLm5': 7,\n",
        " 'aK4CPDZf05uQiwn7Or6V': 2,\n",
        " 'aUufGnCVsQDZogv7wHiN': 7,\n",
        " 'ajpIxyzuMmAlJ9cw2HTY': 7,\n",
        " 'bBDUkAtQcTxhiGXo1N67': 2,\n",
        " 'bXGWQEp24u1LweHra3fB': 3,\n",
        " 'blhHt3mGR6pFC0Or41SL': 3,\n",
        " 'c64G93TVZM258AUDSCka': 2,\n",
        " 'ceyIk4f0BRUiar5bLJ8l': 3,\n",
        " 'cpdsREmet3FyD1oYZVIn': 3,\n",
        " 'd7czUVqJApx6WEj4ownT': 6,\n",
        " 'dKETSOWafR8BIyGir4Qh': 3,\n",
        " 'dsuIp14XKzEt6kU29yeV': 1,\n",
        " 'eU6LxAR3IJkmaP2CDfKj': 2,\n",
        " 'fPIYD8mFLkReTqZEB7dj': 3,\n",
        " 'fgD5k647jbdSEWBZCQnh': 3,\n",
        " 'gGbvOKAXCB5047PEf6aS': 1,\n",
        " 'gJoqRtiAQ5InmXCHjdEr': 1,\n",
        " 'h2bGqACH5pKZtoOzMVRJ': 2,\n",
        " 'hdJnQNkT6b4yDeVwaR3F': 4,\n",
        " 'hfou5GTCL1HKIYcUEp0q': 6,\n",
        " 'iED1fIxnGyWRLuYNvl9s': 7,\n",
        " 'iIrHW0e2tNX9DQL5vh1p': 8,\n",
        " 'ic1gqvXzQFDjZ5YxkmSt': 3,\n",
        " 'iwNno6KJ07lyFBVgfebE': 3,\n",
        " 'j34R672scXmhMi5zrGkF': 3,\n",
        " 'jC6QJ5RarVUNMAfpsnbw': 6,\n",
        " 'jQTW2ckwXNIaeAPMftm8': 9,\n",
        " 'jkMgsX9OEfWmPqbChLH1': 3,\n",
        " 'jsTnFQZN0zuGqAgcOfaS': 1,\n",
        " 'k0DVI4svgBRA8pjlf9M1': 1,\n",
        " 'kEthXiJl4QWv3sdPLgua': 2,\n",
        " 'kGITL4OJxYMWEQ1bKBiP': 9}"
       ]
      }
     ],
     "prompt_number": 22
    },
    {
     "cell_type": "code",
     "collapsed": false,
     "input": [
      "\n",
      "#making list of dict to store counts\n",
      "\n",
      "opcode_dict_l=list()\n",
      "for i in range(0,9):\n",
      "    opcode_dict=dict()\n",
      "    for item in raw_opcode_list:\n",
      "        formatted_opcode=' '+item+' '\n",
      "        opcode_dict[formatted_opcode]=0\n",
      "    opcode_dict_l.append(opcode_dict)\n",
      "\n",
      "def count_opcodes(directory_path,filename):\n",
      "    #byte_limit=100\n",
      "    try:\n",
      "        path=directory_path+filename\n",
      "        openfile = io.open(path,'r',encoding='latin-1')\n",
      "        #openfile = open(path,'rb')\n",
      "        l_lines=openfile.readlines()\n",
      "        count=0\n",
      "        for line in l_lines:\n",
      "            #match_text=re.search(\"text:\",line)\n",
      "            \n",
      "            #if match_text:\n",
      "                for opcode in opcode_dict.keys():\n",
      "                    #match_opcode=None\n",
      "                    match_opcode=re.search(opcode,line)\n",
      "                    if match_opcode:\n",
      "                    #print (match.group())\n",
      "                        filename_key= filename[:-4]\n",
      "                        opcode_dict_l[label_d[filename_key]-1][opcode]+=1\n",
      "                        break\n",
      "        openfile.close()\n",
      "    except IOError:\n",
      "        print (\"Could not open file!\")\n",
      "\n",
      "count=0\n",
      "print(\"Begin...\")\n",
      "for filename in os.listdir(data_path):\n",
      "    if((filename[-4:])=='.asm'): #.swp files!\n",
      "        filename_key= filename[:-4]\n",
      "        if((label_d.get(filename_key,-1))!=-1):\n",
      "            label=label_d[filename_key]  \n",
      "            print(\"Processing...\\t\",count,\"\\tlabel: \",label,\"\\t\",filename,\"\\t\")\n",
      "            sys.stdout.flush()\n",
      "            count_opcodes(data_path,filename)\n",
      "            count+=1\n",
      "\n",
      "print(\"Done!\")\n"
     ],
     "language": "python",
     "metadata": {},
     "outputs": [
      {
       "output_type": "stream",
       "stream": "stdout",
       "text": [
        "Begin...\n",
        "('Processing...\\t', 0, '\\tlabel: ', 2, '\\t', '2NYAUVgtXPpbJzRQO7Cl.asm', '\\t')\n"
       ]
      },
      {
       "output_type": "stream",
       "stream": "stdout",
       "text": [
        "('Processing...\\t', 1, '\\tlabel: ', 9, '\\t', 'BC9hzqbTa0OIsePYiND6.asm', '\\t')\n"
       ]
      },
      {
       "output_type": "stream",
       "stream": "stdout",
       "text": [
        "('Processing...\\t', 2, '\\tlabel: ', 3, '\\t', 'jkMgsX9OEfWmPqbChLH1.asm', '\\t')\n"
       ]
      },
      {
       "output_type": "stream",
       "stream": "stdout",
       "text": [
        "('Processing...\\t', 3, '\\tlabel: ', 3, '\\t', 'cpdsREmet3FyD1oYZVIn.asm', '\\t')\n"
       ]
      },
      {
       "output_type": "stream",
       "stream": "stdout",
       "text": [
        "('Processing...\\t', 4, '\\tlabel: ', 3, '\\t', 'I3hyQOBZM0Kxpmj6a74D.asm', '\\t')\n"
       ]
      },
      {
       "output_type": "stream",
       "stream": "stdout",
       "text": [
        "('Processing...\\t', 5, '\\tlabel: ', 1, '\\t', '9WC4pIz3EqV0tOXgQio8.asm', '\\t')\n"
       ]
      },
      {
       "output_type": "stream",
       "stream": "stdout",
       "text": [
        "('Processing...\\t', 6, '\\tlabel: ', 2, '\\t', '0hBIiRpkMZtoYj3lcDLa.asm', '\\t')\n"
       ]
      },
      {
       "output_type": "stream",
       "stream": "stdout",
       "text": [
        "('Processing...\\t', 7, '\\tlabel: ', 3, '\\t', 'dKETSOWafR8BIyGir4Qh.asm', '\\t')\n"
       ]
      },
      {
       "output_type": "stream",
       "stream": "stdout",
       "text": [
        "('Processing...\\t', 8, '\\tlabel: ', 2, '\\t', 'FB7P8fucig2oslTCEept.asm', '\\t')\n"
       ]
      },
      {
       "output_type": "stream",
       "stream": "stdout",
       "text": [
        "('Processing...\\t', 9, '\\tlabel: ', 2, '\\t', 'kEthXiJl4QWv3sdPLgua.asm', '\\t')\n"
       ]
      },
      {
       "output_type": "stream",
       "stream": "stdout",
       "text": [
        "('Processing...\\t', 10, '\\tlabel: ', 3, '\\t', 'iwNno6KJ07lyFBVgfebE.asm', '\\t')\n"
       ]
      },
      {
       "output_type": "stream",
       "stream": "stdout",
       "text": [
        "('Processing...\\t', 11, '\\tlabel: ', 1, '\\t', '9U2dK1jG06Y8kNnPZWM5.asm', '\\t')\n"
       ]
      },
      {
       "output_type": "stream",
       "stream": "stdout",
       "text": [
        "('Processing...\\t', 12, '\\tlabel: ', 3, '\\t', '3PmaDdlEYWrhG6e480xp.asm', '\\t')\n"
       ]
      },
      {
       "output_type": "stream",
       "stream": "stdout",
       "text": [
        "('Processing...\\t', 13, '\\tlabel: ', 6, '\\t', '0sM6DQlxcP3oAfd9ZVBT.asm', '\\t')\n"
       ]
      },
      {
       "output_type": "stream",
       "stream": "stdout",
       "text": [
        "('Processing...\\t', 14, '\\tlabel: ', 2, '\\t', 'B4kQoTYWxbXcEzrvKDZP.asm', '\\t')\n"
       ]
      },
      {
       "output_type": "stream",
       "stream": "stdout",
       "text": [
        "('Processing...\\t', 15, '\\tlabel: ', 3, '\\t', 'EJOGkzrY3FVAtHgmKicu.asm', '\\t')\n"
       ]
      },
      {
       "output_type": "stream",
       "stream": "stdout",
       "text": [
        "('Processing...\\t', 16, '\\tlabel: ', 7, '\\t', 'ANPyxi13XKGvsF5zlQqW.asm', '\\t')\n"
       ]
      },
      {
       "output_type": "stream",
       "stream": "stdout",
       "text": [
        "('Processing...\\t', 17, '\\tlabel: ', 1, '\\t', '67HtTa9RSq1vKfcA2PXB.asm', '\\t')\n"
       ]
      },
      {
       "output_type": "stream",
       "stream": "stdout",
       "text": [
        "('Processing...\\t', 18, '\\tlabel: ', 3, '\\t', '2gUPy7nNQD4Fjkv69ose.asm', '\\t')\n"
       ]
      },
      {
       "output_type": "stream",
       "stream": "stdout",
       "text": [
        "('Processing...\\t', 19, '\\tlabel: ', 3, '\\t', '9EbqOQ5sCRtSVzg3DyMn.asm', '\\t')\n"
       ]
      },
      {
       "output_type": "stream",
       "stream": "stdout",
       "text": [
        "('Processing...\\t', 20, '\\tlabel: ', 2, '\\t', '0HcZRmLi9VTpuQJCoXny.asm', '\\t')\n"
       ]
      },
      {
       "output_type": "stream",
       "stream": "stdout",
       "text": [
        "('Processing...\\t', 21, '\\tlabel: ', 3, '\\t', 'K1PseDmpHfo8OuhUJtA5.asm', '\\t')\n"
       ]
      },
      {
       "output_type": "stream",
       "stream": "stdout",
       "text": [
        "('Processing...\\t', 22, '\\tlabel: ', 3, '\\t', 'E4lBhCXvziDf2rU3GM7t.asm', '\\t')\n"
       ]
      },
      {
       "output_type": "stream",
       "stream": "stdout",
       "text": [
        "('Processing...\\t', 23, '\\tlabel: ', 1, '\\t', '8W7PJBs3cfumHjh6Mz5Z.asm', '\\t')\n"
       ]
      },
      {
       "output_type": "stream",
       "stream": "stdout",
       "text": [
        "('Processing...\\t', 24, '\\tlabel: ', 3, '\\t', 'FNMk3wvliVuQLCe9OTDg.asm', '\\t')\n"
       ]
      },
      {
       "output_type": "stream",
       "stream": "stdout",
       "text": [
        "('Processing...\\t', 25, '\\tlabel: ', 9, '\\t', 'Iy6lQgsbZ9q0tfrT1hMe.asm', '\\t')\n"
       ]
      },
      {
       "output_type": "stream",
       "stream": "stdout",
       "text": [
        "('Processing...\\t', 26, '\\tlabel: ', 3, '\\t', 'Agr9Oh1eLIP0QCpRNkUt.asm', '\\t')\n"
       ]
      },
      {
       "output_type": "stream",
       "stream": "stdout",
       "text": [
        "('Processing...\\t', 27, '\\tlabel: ', 3, '\\t', 'j34R672scXmhMi5zrGkF.asm', '\\t')\n"
       ]
      },
      {
       "output_type": "stream",
       "stream": "stdout",
       "text": [
        "('Processing...\\t', 28, '\\tlabel: ', 4, '\\t', '81jMeyEZiOpJkCuBlDYg.asm', '\\t')\n"
       ]
      },
      {
       "output_type": "stream",
       "stream": "stdout",
       "text": [
        "('Processing...\\t', 29, '\\tlabel: ', 3, '\\t', 'ceyIk4f0BRUiar5bLJ8l.asm', '\\t')\n"
       ]
      },
      {
       "output_type": "stream",
       "stream": "stdout",
       "text": [
        "('Processing...\\t', 30, '\\tlabel: ', 1, '\\t', 'gJoqRtiAQ5InmXCHjdEr.asm', '\\t')\n"
       ]
      },
      {
       "output_type": "stream",
       "stream": "stdout",
       "text": [
        "('Processing...\\t', 31, '\\tlabel: ', 6, '\\t', 'C6OEvgQ2n5F93Tjhoemt.asm', '\\t')\n"
       ]
      },
      {
       "output_type": "stream",
       "stream": "stdout",
       "text": [
        "('Processing...\\t', 32, '\\tlabel: ', 2, '\\t', 'c64G93TVZM258AUDSCka.asm', '\\t')\n"
       ]
      },
      {
       "output_type": "stream",
       "stream": "stdout",
       "text": [
        "('Processing...\\t', 33, '\\tlabel: ', 2, '\\t', 'eU6LxAR3IJkmaP2CDfKj.asm', '\\t')\n"
       ]
      },
      {
       "output_type": "stream",
       "stream": "stdout",
       "text": [
        "('Processing...\\t', 34, '\\tlabel: ', 4, '\\t', 'Dm2UHLlhcoiM0xGYwVSN.asm', '\\t')\n"
       ]
      },
      {
       "output_type": "stream",
       "stream": "stdout",
       "text": [
        "('Processing...\\t', 35, '\\tlabel: ', 6, '\\t', 'Fl9o1QycpzBuktRXSwx7.asm', '\\t')\n"
       ]
      },
      {
       "output_type": "stream",
       "stream": "stdout",
       "text": [
        "('Processing...\\t', 36, '\\tlabel: ', 4, '\\t', 'Ft0dsjHpwqcWoXK6ST7n.asm', '\\t')\n"
       ]
      },
      {
       "output_type": "stream",
       "stream": "stdout",
       "text": [
        "('Processing...\\t', 37, '\\tlabel: ', 1, '\\t', 'gGbvOKAXCB5047PEf6aS.asm', '\\t')\n"
       ]
      },
      {
       "output_type": "stream",
       "stream": "stdout",
       "text": [
        "('Processing...\\t', 38, '\\tlabel: ', 3, '\\t', 'fPIYD8mFLkReTqZEB7dj.asm', '\\t')\n"
       ]
      },
      {
       "output_type": "stream",
       "stream": "stdout",
       "text": [
        "('Processing...\\t', 39, '\\tlabel: ', 6, '\\t', 'd7czUVqJApx6WEj4ownT.asm', '\\t')\n"
       ]
      },
      {
       "output_type": "stream",
       "stream": "stdout",
       "text": [
        "('Processing...\\t', 40, '\\tlabel: ', 1, '\\t', 'jsTnFQZN0zuGqAgcOfaS.asm', '\\t')\n"
       ]
      },
      {
       "output_type": "stream",
       "stream": "stdout",
       "text": [
        "('Processing...\\t', 41, '\\tlabel: ', 1, '\\t', '6KDiSvjJq215CNuoGzH8.asm', '\\t')\n"
       ]
      },
      {
       "output_type": "stream",
       "stream": "stdout",
       "text": [
        "('Processing...\\t', 42, '\\tlabel: ', 9, '\\t', 'D4HgKrPeUyIlGFMv1tVR.asm', '\\t')\n"
       ]
      },
      {
       "output_type": "stream",
       "stream": "stdout",
       "text": [
        "('Processing...\\t', 43, '\\tlabel: ', 2, '\\t', '283STBsQaI7Pw9qf0tjy.asm', '\\t')\n"
       ]
      },
      {
       "output_type": "stream",
       "stream": "stdout",
       "text": [
        "('Processing...\\t', 44, '\\tlabel: ', 8, '\\t', '6kgpyCID8l4Pw7BYHTjM.asm', '\\t')\n"
       ]
      },
      {
       "output_type": "stream",
       "stream": "stdout",
       "text": [
        "('Processing...\\t', 45, '\\tlabel: ', 1, '\\t', 'APmyDeQT238osZgb7lhN.asm', '\\t')\n"
       ]
      },
      {
       "output_type": "stream",
       "stream": "stdout",
       "text": [
        "('Processing...\\t', 46, '\\tlabel: ', 9, '\\t', 'jQTW2ckwXNIaeAPMftm8.asm', '\\t')\n"
       ]
      },
      {
       "output_type": "stream",
       "stream": "stdout",
       "text": [
        "('Processing...\\t', 47, '\\tlabel: ', 3, '\\t', 'fgD5k647jbdSEWBZCQnh.asm', '\\t')\n"
       ]
      },
      {
       "output_type": "stream",
       "stream": "stdout",
       "text": [
        "('Processing...\\t', 48, '\\tlabel: ', 3, '\\t', 'CW6cHidJb35VTMQ0jms7.asm', '\\t')\n"
       ]
      },
      {
       "output_type": "stream",
       "stream": "stdout",
       "text": [
        "('Processing...\\t', 49, '\\tlabel: ', 2, '\\t', 'EhR93mQKyvaSF5euIlik.asm', '\\t')\n"
       ]
      },
      {
       "output_type": "stream",
       "stream": "stdout",
       "text": [
        "('Processing...\\t', 50, '\\tlabel: ', 7, '\\t', 'DhWInBmVuLfEF18YRPHZ.asm', '\\t')\n"
       ]
      },
      {
       "output_type": "stream",
       "stream": "stdout",
       "text": [
        "('Processing...\\t', 51, '\\tlabel: ', 8, '\\t', 'BUGAnop1NDYTh0txE8d6.asm', '\\t')\n"
       ]
      },
      {
       "output_type": "stream",
       "stream": "stdout",
       "text": [
        "('Processing...\\t', 52, '\\tlabel: ', 1, '\\t', '0YRDpBU67WrqEugkXlnd.asm', '\\t')\n"
       ]
      },
      {
       "output_type": "stream",
       "stream": "stdout",
       "text": [
        "('Processing...\\t', 53, '\\tlabel: ', 6, '\\t', 'hfou5GTCL1HKIYcUEp0q.asm', '\\t')\n"
       ]
      },
      {
       "output_type": "stream",
       "stream": "stdout",
       "text": [
        "('Processing...\\t', 54, '\\tlabel: ', 4, '\\t', 'BAGfw1SeoPIqyhTErbit.asm', '\\t')\n"
       ]
      },
      {
       "output_type": "stream",
       "stream": "stdout",
       "text": [
        "('Processing...\\t', 55, '\\tlabel: ', 2, '\\t', 'ID5Ogjr8pR9ncoNhKZHi.asm', '\\t')\n"
       ]
      },
      {
       "output_type": "stream",
       "stream": "stdout",
       "text": [
        "('Processing...\\t', 56, '\\tlabel: ', 2, '\\t', '30Sj9rlHUZveV8FN1k54.asm', '\\t')\n"
       ]
      },
      {
       "output_type": "stream",
       "stream": "stdout",
       "text": [
        "('Processing...\\t', 57, '\\tlabel: ', 2, '\\t', '9NcndSbt1XFgpYO203D5.asm', '\\t')\n"
       ]
      },
      {
       "output_type": "stream",
       "stream": "stdout",
       "text": [
        "('Processing...\\t', 58, '\\tlabel: ', 8, '\\t', '7UEqLpy8zmkvfA2e5Nob.asm', '\\t')\n"
       ]
      },
      {
       "output_type": "stream",
       "stream": "stdout",
       "text": [
        "('Processing...\\t', 59, '\\tlabel: ', 1, '\\t', 'F3Zj217CLRxgi0NyHMY4.asm', '\\t')\n"
       ]
      },
      {
       "output_type": "stream",
       "stream": "stdout",
       "text": [
        "('Processing...\\t', 60, '\\tlabel: ', 1, '\\t', 'C2Tt45wU1BVuoIehLEqp.asm', '\\t')\n"
       ]
      },
      {
       "output_type": "stream",
       "stream": "stdout",
       "text": [
        "('Processing...\\t', 61, '\\tlabel: ', 9, '\\t', 'kGITL4OJxYMWEQ1bKBiP.asm', '\\t')\n"
       ]
      },
      {
       "output_type": "stream",
       "stream": "stdout",
       "text": [
        "('Processing...\\t', 62, '\\tlabel: ', 7, '\\t', 'KWg8T3NOYaQBF0tMqLm5.asm', '\\t')\n"
       ]
      },
      {
       "output_type": "stream",
       "stream": "stdout",
       "text": [
        "('Processing...\\t', 63, '\\tlabel: ', 6, '\\t', '4jKTeHu7YgAhDG8iBoxW.asm', '\\t')\n"
       ]
      },
      {
       "output_type": "stream",
       "stream": "stdout",
       "text": [
        "('Processing...\\t', 64, '\\tlabel: ', 1, '\\t', 'FURh5Tif1jXCzZGqlHyN.asm', '\\t')\n"
       ]
      },
      {
       "output_type": "stream",
       "stream": "stdout",
       "text": [
        "('Processing...\\t', 65, '\\tlabel: ', 8, '\\t', 'FP7u6VsNE8m1GCjBiXfS.asm', '\\t')\n"
       ]
      },
      {
       "output_type": "stream",
       "stream": "stdout",
       "text": [
        "('Processing...\\t', 66, '\\tlabel: ', 1, '\\t', 'k0DVI4svgBRA8pjlf9M1.asm', '\\t')\n"
       ]
      },
      {
       "output_type": "stream",
       "stream": "stdout",
       "text": [
        "('Processing...\\t', 67, '\\tlabel: ', 3, '\\t', 'FYPXNW2S6eO9zMVR3HaK.asm', '\\t')\n"
       ]
      },
      {
       "output_type": "stream",
       "stream": "stdout",
       "text": [
        "('Processing...\\t', 68, '\\tlabel: ', 3, '\\t', '0fxgjYEClPL1BDbcshzJ.asm', '\\t')\n"
       ]
      },
      {
       "output_type": "stream",
       "stream": "stdout",
       "text": [
        "('Processing...\\t', 69, '\\tlabel: ', 2, '\\t', '4YyEodi9umUntvbeNWw5.asm', '\\t')\n"
       ]
      },
      {
       "output_type": "stream",
       "stream": "stdout",
       "text": [
        "('Processing...\\t', 70, '\\tlabel: ', 3, '\\t', '7HAqkJSVFhjle8tn412s.asm', '\\t')\n"
       ]
      },
      {
       "output_type": "stream",
       "stream": "stdout",
       "text": [
        "('Processing...\\t', 71, '\\tlabel: ', 9, '\\t', '0bjN3Kgw5OATSreRmEdi.asm', '\\t')\n"
       ]
      },
      {
       "output_type": "stream",
       "stream": "stdout",
       "text": [
        "('Processing...\\t', 72, '\\tlabel: ', 3, '\\t', '9HVsJ2mzdvpb14ySg5qc.asm', '\\t')\n"
       ]
      },
      {
       "output_type": "stream",
       "stream": "stdout",
       "text": [
        "('Processing...\\t', 73, '\\tlabel: ', 3, '\\t', '3yB5s1ZCvPmpgernQFKw.asm', '\\t')\n"
       ]
      },
      {
       "output_type": "stream",
       "stream": "stdout",
       "text": [
        "('Processing...\\t', 74, '\\tlabel: ', 1, '\\t', 'dsuIp14XKzEt6kU29yeV.asm', '\\t')\n"
       ]
      },
      {
       "output_type": "stream",
       "stream": "stdout",
       "text": [
        "('Processing...\\t', 75, '\\tlabel: ', 3, '\\t', 'blhHt3mGR6pFC0Or41SL.asm', '\\t')\n"
       ]
      },
      {
       "output_type": "stream",
       "stream": "stdout",
       "text": [
        "('Processing...\\t', 76, '\\tlabel: ', 7, '\\t', 'ajpIxyzuMmAlJ9cw2HTY.asm', '\\t')\n"
       ]
      },
      {
       "output_type": "stream",
       "stream": "stdout",
       "text": [
        "('Processing...\\t', 77, '\\tlabel: ', 9, '\\t', '4UblA5oWqLNmdVF8sDw0.asm', '\\t')\n"
       ]
      },
      {
       "output_type": "stream",
       "stream": "stdout",
       "text": [
        "('Processing...\\t', 78, '\\tlabel: ', 7, '\\t', 'aUufGnCVsQDZogv7wHiN.asm', '\\t')\n"
       ]
      },
      {
       "output_type": "stream",
       "stream": "stdout",
       "text": [
        "('Processing...\\t', 79, '\\tlabel: ', 9, '\\t', 'GkA3vhfoHbwdeKPBl4ZR.asm', '\\t')\n"
       ]
      },
      {
       "output_type": "stream",
       "stream": "stdout",
       "text": [
        "('Processing...\\t', 80, '\\tlabel: ', 3, '\\t', '1awKqmMpQUblukHhBy7n.asm', '\\t')\n"
       ]
      },
      {
       "output_type": "stream",
       "stream": "stdout",
       "text": [
        "('Processing...\\t', 81, '\\tlabel: ', 6, '\\t', 'jC6QJ5RarVUNMAfpsnbw.asm', '\\t')\n"
       ]
      },
      {
       "output_type": "stream",
       "stream": "stdout",
       "text": [
        "('Processing...\\t', 82, '\\tlabel: ', 2, '\\t', 'h2bGqACH5pKZtoOzMVRJ.asm', '\\t')\n"
       ]
      },
      {
       "output_type": "stream",
       "stream": "stdout",
       "text": [
        "('Processing...\\t', 83, '\\tlabel: ', 2, '\\t', '7ED0sQObTcBd6kL8IwJU.asm', '\\t')\n"
       ]
      },
      {
       "output_type": "stream",
       "stream": "stdout",
       "text": [
        "('Processing...\\t', 84, '\\tlabel: ', 6, '\\t', 'H95BXlwhOQPirqy4YoRn.asm', '\\t')\n"
       ]
      },
      {
       "output_type": "stream",
       "stream": "stdout",
       "text": [
        "('Processing...\\t', 85, '\\tlabel: ', 3, '\\t', 'bXGWQEp24u1LweHra3fB.asm', '\\t')\n"
       ]
      },
      {
       "output_type": "stream",
       "stream": "stdout",
       "text": [
        "('Processing...\\t', 86, '\\tlabel: ', 4, '\\t', 'hdJnQNkT6b4yDeVwaR3F.asm', '\\t')\n"
       ]
      },
      {
       "output_type": "stream",
       "stream": "stdout",
       "text": [
        "('Processing...\\t', 87, '\\tlabel: ', 8, '\\t', 'iIrHW0e2tNX9DQL5vh1p.asm', '\\t')\n"
       ]
      },
      {
       "output_type": "stream",
       "stream": "stdout",
       "text": [
        "('Processing...\\t', 88, '\\tlabel: ', 3, '\\t', 'JwXPAuRDQva5FYe8t30z.asm', '\\t')\n"
       ]
      },
      {
       "output_type": "stream",
       "stream": "stdout",
       "text": [
        "('Processing...\\t', 89, '\\tlabel: ', 7, '\\t', 'iED1fIxnGyWRLuYNvl9s.asm', '\\t')\n"
       ]
      },
      {
       "output_type": "stream",
       "stream": "stdout",
       "text": [
        "('Processing...\\t', 90, '\\tlabel: ', 8, '\\t', 'CGjAmy85OhvrlswNZVKt.asm', '\\t')\n"
       ]
      },
      {
       "output_type": "stream",
       "stream": "stdout",
       "text": [
        "('Processing...\\t', 91, '\\tlabel: ', 2, '\\t', 'aK4CPDZf05uQiwn7Or6V.asm', '\\t')\n"
       ]
      },
      {
       "output_type": "stream",
       "stream": "stdout",
       "text": [
        "('Processing...\\t', 92, '\\tlabel: ', 3, '\\t', '06arUi9q3wHS2C8RZxeB.asm', '\\t')\n"
       ]
      },
      {
       "output_type": "stream",
       "stream": "stdout",
       "text": [
        "('Processing...\\t', 93, '\\tlabel: ', 8, '\\t', 'DReqVt7Hxa5plh8v0QP9.asm', '\\t')\n"
       ]
      },
      {
       "output_type": "stream",
       "stream": "stdout",
       "text": [
        "('Processing...\\t', 94, '\\tlabel: ', 1, '\\t', '2bcyFiRa8zKBolCGZSvO.asm', '\\t')\n"
       ]
      },
      {
       "output_type": "stream",
       "stream": "stdout",
       "text": [
        "('Processing...\\t', 95, '\\tlabel: ', 3, '\\t', 'BMmCz4hZdgYjcbQD5oai.asm', '\\t')\n"
       ]
      },
      {
       "output_type": "stream",
       "stream": "stdout",
       "text": [
        "('Processing...\\t', 96, '\\tlabel: ', 3, '\\t', '3vG9FbUS2P8Xcfsj4WLw.asm', '\\t')\n"
       ]
      },
      {
       "output_type": "stream",
       "stream": "stdout",
       "text": [
        "('Processing...\\t', 97, '\\tlabel: ', 1, '\\t', '0X6U3SfcmbuZNodnH9qL.asm', '\\t')\n"
       ]
      },
      {
       "output_type": "stream",
       "stream": "stdout",
       "text": [
        "('Processing...\\t', 98, '\\tlabel: ', 9, '\\t', 'FSqi0ZaPveb5jMxtBcfs.asm', '\\t')\n"
       ]
      },
      {
       "output_type": "stream",
       "stream": "stdout",
       "text": [
        "('Processing...\\t', 99, '\\tlabel: ', 3, '\\t', 'AgF6YUNOyGmRPxSnTifM.asm', '\\t')\n"
       ]
      },
      {
       "output_type": "stream",
       "stream": "stdout",
       "text": [
        "('Processing...\\t', 100, '\\tlabel: ', 3, '\\t', 'E9oGIQiNlMZgCKxSW8wj.asm', '\\t')\n"
       ]
      },
      {
       "output_type": "stream",
       "stream": "stdout",
       "text": [
        "('Processing...\\t', 101, '\\tlabel: ', 3, '\\t', '19b2dlEtWXyeiqc67Bof.asm', '\\t')\n"
       ]
      },
      {
       "output_type": "stream",
       "stream": "stdout",
       "text": [
        "('Processing...\\t', 102, '\\tlabel: ', 2, '\\t', 'B0hTZnAfwPCkzKsY4yIb.asm', '\\t')\n"
       ]
      },
      {
       "output_type": "stream",
       "stream": "stdout",
       "text": [
        "('Processing...\\t', 103, '\\tlabel: ', 9, '\\t', 'JLS67VuPi0hyto3e5g8w.asm', '\\t')\n"
       ]
      },
      {
       "output_type": "stream",
       "stream": "stdout",
       "text": [
        "('Processing...\\t', 104, '\\tlabel: ', 1, '\\t', '8gtaP24AeukjmiJUoCKE.asm', '\\t')\n"
       ]
      },
      {
       "output_type": "stream",
       "stream": "stdout",
       "text": [
        "('Processing...\\t', 105, '\\tlabel: ', 2, '\\t', 'bBDUkAtQcTxhiGXo1N67.asm', '\\t')\n"
       ]
      },
      {
       "output_type": "stream",
       "stream": "stdout",
       "text": [
        "('Processing...\\t', 106, '\\tlabel: ', 9, '\\t', '4ac5qdOrj96X8SglAGZL.asm', '\\t')\n"
       ]
      },
      {
       "output_type": "stream",
       "stream": "stdout",
       "text": [
        "('Processing...\\t', 107, '\\tlabel: ', 9, '\\t', 'FpfoxH3CNAgl9iBY5naM.asm', '\\t')\n"
       ]
      },
      {
       "output_type": "stream",
       "stream": "stdout",
       "text": [
        "('Processing...\\t', 108, '\\tlabel: ', 3, '\\t', 'ic1gqvXzQFDjZ5YxkmSt.asm', '\\t')\n"
       ]
      },
      {
       "output_type": "stream",
       "stream": "stdout",
       "text": [
        "Done!\n"
       ]
      }
     ],
     "prompt_number": 23
    },
    {
     "cell_type": "code",
     "collapsed": false,
     "input": [
      "print(\"Pickling...\")\n",
      "dumpfile=open(output_path,'wb')\n",
      "pickle.dump(opcode_dict_l,dumpfile)\n",
      "dumpfile.close()\n",
      "unpickled_file=open(output_path,'rb')\n",
      "print(\"Done Pickling...\")\n",
      "unpickled_dict=pickle.load(unpickled_file)\n",
      "unpickled_dict"
     ],
     "language": "python",
     "metadata": {},
     "outputs": [
      {
       "output_type": "stream",
       "stream": "stdout",
       "text": [
        "Pickling...\n",
        "Done Pickling...\n"
       ]
      },
      {
       "metadata": {},
       "output_type": "pyout",
       "prompt_number": 24,
       "text": [
        "[{' add ': 17454, ' imul ': 331, ' mov ': 143884, ' sub ': 6045},\n",
        " {' add ': 6141, ' imul ': 42027, ' mov ': 151277, ' sub ': 4114},\n",
        " {' add ': 3974, ' imul ': 0, ' mov ': 5539, ' sub ': 1770},\n",
        " {' add ': 1192, ' imul ': 86, ' mov ': 1612, ' sub ': 598},\n",
        " {' add ': 0, ' imul ': 0, ' mov ': 0, ' sub ': 0},\n",
        " {' add ': 1288, ' imul ': 80, ' mov ': 11169, ' sub ': 1101},\n",
        " {' add ': 59, ' imul ': 0, ' mov ': 1112, ' sub ': 13},\n",
        " {' add ': 2055, ' imul ': 48, ' mov ': 14472, ' sub ': 1983},\n",
        " {' add ': 3500, ' imul ': 382, ' mov ': 17415, ' sub ': 3185}]"
       ]
      }
     ],
     "prompt_number": 24
    },
    {
     "cell_type": "code",
     "collapsed": true,
     "input": [],
     "language": "python",
     "metadata": {},
     "outputs": []
    },
    {
     "cell_type": "code",
     "collapsed": true,
     "input": [],
     "language": "python",
     "metadata": {},
     "outputs": []
    }
   ],
   "metadata": {}
  }
 ]
}