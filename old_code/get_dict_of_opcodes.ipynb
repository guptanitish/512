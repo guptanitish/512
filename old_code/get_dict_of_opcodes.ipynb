{
 "metadata": {
  "kernelspec": {
   "display_name": "Python 3",
   "language": "python",
   "name": "python3"
  },
  "language_info": {
   "codemirror_mode": {
    "name": "ipython",
    "version": 3
   },
   "file_extension": ".py",
   "mimetype": "text/x-python",
   "name": "python",
   "nbconvert_exporter": "python",
   "pygments_lexer": "ipython3",
   "version": "3.4.3"
  },
  "name": ""
 },
 "nbformat": 3,
 "nbformat_minor": 0,
 "worksheets": [
  {
   "cells": [
    {
     "cell_type": "code",
     "collapsed": true,
     "input": [
      "#get the dictionary of all opcodes present in the dataset\n",
      "\n",
      "import pickle\n",
      "import re\n",
      "import os, os.path\n",
      "import pandas as pd\n",
      "import pickle\n",
      "import sys\n",
      "from sklearn.cross_validation import train_test_split\n",
      "import io\n",
      "\n",
      "output_path='/home/stufs1/nitigupta/512/results/opcodes_temp.txt' #where to store the output\n",
      "label_csv_path='/home/stufs1/nitigupta/512/data/trainLabels.csv' #path to csv file mapping filenames to labels\n",
      "data_path = '/home/stufs1/nitigupta/512/data/train/' #path to the data\n",
      "raw_opcode_list=['mov','add','sub','imul'] #list of opcodes to filter\n",
      "\n"
     ],
     "language": "python",
     "metadata": {},
     "outputs": [],
     "prompt_number": 8
    },
    {
     "cell_type": "code",
     "collapsed": false,
     "input": [
      "df_entire= pd.read_csv(label_csv_path)\n",
      "a_train, a_test= train_test_split(df_entire,test_size=0.001, random_state=24)\n",
      "df_test=pd.DataFrame.from_records(a_test)"
     ],
     "language": "python",
     "metadata": {},
     "outputs": [],
     "prompt_number": 9
    },
    {
     "cell_type": "code",
     "collapsed": false,
     "input": [
      "len(df_test)"
     ],
     "language": "python",
     "metadata": {},
     "outputs": [
      {
       "metadata": {},
       "output_type": "pyout",
       "prompt_number": 10,
       "text": [
        "11"
       ]
      }
     ],
     "prompt_number": 10
    },
    {
     "cell_type": "code",
     "collapsed": false,
     "input": [
      "#build label dict - filename->labels\n",
      "print(\"extracting labels..\")\n",
      "def get_labels(path,label_d,df):    \n",
      "    #df= pd.read_csv(path)\n",
      "    for index, row in df.iterrows():\n",
      "        label_d[row[0]]=row[1]\n",
      "    \n",
      "label_d=dict()\n",
      "get_labels(label_csv_path,label_d,df_test)\n",
      "print(\"done extracting labels..\")"
     ],
     "language": "python",
     "metadata": {},
     "outputs": [
      {
       "output_type": "stream",
       "stream": "stdout",
       "text": [
        "extracting labels..\n",
        "done extracting labels..\n"
       ]
      }
     ],
     "prompt_number": 4
    },
    {
     "cell_type": "code",
     "collapsed": false,
     "input": [
      "d=dict()\n",
      "def make_dict_of_opcodes(d,line):\n",
      "    opcode_group = re.search('\\s\\s\\s[a-z][a-z]+\\s\\s\\s',line)\n",
      "    if opcode_group:\n",
      "        opcode = opcode_group.group()\n",
      "        opcode.strip()\n",
      "        \n",
      "        if opcode not in d:\n",
      "            d[opcode]=1\n",
      "        else:\n",
      "            d[opcode]+=1\n",
      "#making list of dict to store counts\n",
      "def count_opcodes(directory_path,filename):\n",
      "    #byte_limit=100\n",
      "    try:\n",
      "        path=directory_path+filename\n",
      "        openfile = io.open(path,'r',encoding='latin-1')\n",
      "        l_lines=openfile.readlines()\n",
      "\n",
      "        count=0\n",
      "        for line in l_lines:\n",
      "            label = label_d[filename[:-4]]\n",
      "            make_dict_of_opcodes(d,line)\n",
      "        openfile.close()\n",
      "    except IOError:\n",
      "        print (\"Could not open file!\")\n",
      "\n",
      "count=0\n",
      "print(\"Begin...\")\n",
      "for filename in os.listdir(data_path):\n",
      "    if((filename[-4:])=='.asm'): #.swp files!\n",
      "        filename_key= filename[:-4]\n",
      "        if((label_d.get(filename_key,-1))!=-1):\n",
      "            label=label_d[filename_key]  \n",
      "            print(\"Processing...\\t\",count,\"\\tlabel: \",label,\"\\t\",filename,\"\\t\")\n",
      "            sys.stdout.flush()\n",
      "            count_opcodes(data_path,filename)\n",
      "            count+=1\n",
      "\n",
      "print(\"Done!\")\n"
     ],
     "language": "python",
     "metadata": {},
     "outputs": [
      {
       "output_type": "stream",
       "stream": "stdout",
       "text": [
        "Begin...\n",
        "('Processing...\\t', 0, '\\tlabel: ', 1, '\\t', '9Ek3SCm6VvZUhNtnpGK8.asm', '\\t')\n"
       ]
      },
      {
       "output_type": "stream",
       "stream": "stdout",
       "text": [
        "('Processing...\\t', 1, '\\tlabel: ', 1, '\\t', 'e0Yr26MQJovX8cdCV1tU.asm', '\\t')\n"
       ]
      },
      {
       "output_type": "stream",
       "stream": "stdout",
       "text": [
        "('Processing...\\t', 2, '\\tlabel: ', 2, '\\t', 'cuNE2eL7XtkbJQw50zsW.asm', '\\t')\n"
       ]
      },
      {
       "output_type": "stream",
       "stream": "stdout",
       "text": [
        "('Processing...\\t', 3, '\\tlabel: ', 3, '\\t', '0NiOTDde1ktxg954SJFE.asm', '\\t')\n"
       ]
      },
      {
       "output_type": "stream",
       "stream": "stdout",
       "text": [
        "('Processing...\\t', 4, '\\tlabel: ', 1, '\\t', '2oUq3FLziRydvHSXM7na.asm', '\\t')\n"
       ]
      },
      {
       "output_type": "stream",
       "stream": "stdout",
       "text": [
        "('Processing...\\t', 5, '\\tlabel: ', 2, '\\t', 'BUPD1HZCoxOlY73siFhm.asm', '\\t')\n"
       ]
      },
      {
       "output_type": "stream",
       "stream": "stdout",
       "text": [
        "('Processing...\\t', 6, '\\tlabel: ', 2, '\\t', 'FCQV3jK6B12LrReZdmDu.asm', '\\t')\n"
       ]
      },
      {
       "output_type": "stream",
       "stream": "stdout",
       "text": [
        "('Processing...\\t', 7, '\\tlabel: ', 8, '\\t', '0wkFafuhqSr1Z5J7K6C9.asm', '\\t')\n"
       ]
      },
      {
       "output_type": "stream",
       "stream": "stdout",
       "text": [
        "('Processing...\\t', 8, '\\tlabel: ', 2, '\\t', 'Ccw0Ub4P6y8ARuM2FihB.asm', '\\t')\n"
       ]
      },
      {
       "output_type": "stream",
       "stream": "stdout",
       "text": [
        "('Processing...\\t', 9, '\\tlabel: ', 2, '\\t', '06aLOj8EUXMByS423sum.asm', '\\t')\n"
       ]
      },
      {
       "output_type": "stream",
       "stream": "stdout",
       "text": [
        "('Processing...\\t', 10, '\\tlabel: ', 2, '\\t', 'eyM13bXGZUlERs8pxWwm.asm', '\\t')\n"
       ]
      },
      {
       "output_type": "stream",
       "stream": "stdout",
       "text": [
        "Done!\n"
       ]
      }
     ],
     "prompt_number": 5
    },
    {
     "cell_type": "code",
     "collapsed": false,
     "input": [
      "print(\"Pickling...\")\n",
      "\n",
      "dumpfile=open(output_path,'wb')\n",
      "pickle.dump(d,dumpfile)\n",
      "dumpfile.close()\n",
      "unpickled_file=open(output_path,'rb')\n",
      "print(\"Done Pickling...\")\n",
      "unpickled_dict=pickle.load(unpickled_file)\n",
      "#unpickled_dict"
     ],
     "language": "python",
     "metadata": {},
     "outputs": [
      {
       "output_type": "stream",
       "stream": "stdout",
       "text": [
        "Pickling...\n",
        "Done Pickling...\n"
       ]
      }
     ],
     "prompt_number": 6
    },
    {
     "cell_type": "code",
     "collapsed": false,
     "input": [
      "unpickled_file=open(output_path,'rb')\n",
      "unpickled_dict=pickle.load(unpickled_file)\n",
      "\n",
      "import opcodes.x86 as op_32\n",
      "import opcodes.x86_64 as op_64\n",
      "in_set=op_32.read_instruction_set(\"/home/stufs1/nitigupta/512/code/lib/x86.xml\")\n",
      "\n",
      "inst_set_dict=dict()\n",
      "\n",
      "for i in range(0,len(in_set)):\n",
      "    inst_set_dict[in_set[i].name.lower()]=1\n",
      "\n",
      "#print (len(in_set))\n",
      "instr_present=dict()\n",
      "for key in unpickled_dict.keys():\n",
      "    #if \"\\t\" in str\n",
      "    if key.strip() in inst_set_dict:\n",
      "        instr_present[key.strip()]=1\n",
      "\n",
      "len(instr_present)\n",
      "\n"
     ],
     "language": "python",
     "metadata": {},
     "outputs": [
      {
       "metadata": {},
       "output_type": "pyout",
       "prompt_number": 7,
       "text": [
        "69"
       ]
      }
     ],
     "prompt_number": 7
    },
    {
     "cell_type": "code",
     "collapsed": false,
     "input": [],
     "language": "python",
     "metadata": {},
     "outputs": []
    }
   ],
   "metadata": {}
  }
 ]
}