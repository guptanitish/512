{
 "metadata": {
  "name": ""
 },
 "nbformat": 3,
 "nbformat_minor": 0,
 "worksheets": [
  {
   "cells": [
    {
     "cell_type": "code",
     "collapsed": false,
     "input": [
      "import matplotlib.pyplot as plt\n",
      "from os import listdir\n",
      "from os.path import isfile, join\n",
      " \n",
      "from sklearn.metrics import log_loss, confusion_matrix\n",
      "from sklearn.ensemble import RandomForestClassifier, ExtraTreesClassifier\n",
      "from sklearn.cross_validation import cross_val_score, KFold\n",
      "from sklearn.linear_model import LogisticRegression\n",
      " \n",
      "import numpy as np\n",
      "import os\n",
      "import os.path\n",
      " \n",
      "dt = np.dtype([('Id', 'a30'), ('Class', 'u2')])\n",
      "data = np.loadtxt('trainLabels.csv', skiprows=1, delimiter = ',', dtype=dt)\n",
      " \n",
      "X = np.zeros((data.shape[0], 2))\n",
      "Y = data['Class']\n",
      " \n",
      " \n",
      "for i, (Id, Class) in enumerate(data):\n",
      "    asmFile = 'train/'+Id[1:-1]+'.asm'\n",
      "    if os.path.isfile(asmFile):\n",
      "        X[i][0] = os.path.getsize(asmFile)\n",
      "    bytesFile = 'train/'+Id[1:-1]+'.bytes'\n",
      "    if os.path.isfile(bytesFile):\n",
      "        X[i][1] = os.path.getsize(bytesFile)"
     ],
     "language": "python",
     "metadata": {},
     "outputs": [],
     "prompt_number": 3
    },
    {
     "cell_type": "code",
     "collapsed": false,
     "input": [
      "plt.axis((0,1.6*10**8, 0, 2*10**7))\n",
      "plt.scatter(X[:,0], X[:,1], c=Y, alpha=0.5)\n",
      "#plt.show()"
     ],
     "language": "python",
     "metadata": {},
     "outputs": [
      {
       "metadata": {},
       "output_type": "pyout",
       "prompt_number": 5,
       "text": [
        "<matplotlib.collections.PathCollection at 0x7f365de4e690>"
       ]
      }
     ],
     "prompt_number": 5
    },
    {
     "cell_type": "code",
     "collapsed": false,
     "input": [
      "denseX = np.zeros((data.shape[0], 2))\n",
      "i = 0\n",
      "for elem in X:\n",
      "    if elem[0] != 0 and elem[1] != 0:\n",
      "        denseX[i] = elem\n",
      "        i = i + 1\n",
      "denseX = denseX[:i]\n",
      "Y=Y[:i]"
     ],
     "language": "python",
     "metadata": {},
     "outputs": [],
     "prompt_number": 6
    },
    {
     "cell_type": "code",
     "collapsed": false,
     "input": [
      "def run_cv(X,y, clf):\n",
      " \n",
      "    # Construct a kfolds object\n",
      "    kf = KFold(len(y),n_folds=10,shuffle=True)\n",
      "    y_prob = np.zeros((len(y),3))\n",
      "    y_pred = np.zeros(len(y))\n",
      "     \n",
      "    # Iterate through folds\n",
      "    for train_index, test_index in kf:\n",
      "        X_train, X_test = X[train_index], X[test_index]\n",
      "        #print X_train\n",
      "        #print \"test\", test_index\n",
      "        y_train = y[train_index]\n",
      " \n",
      "        clf.fit(X_train,y_train)\n",
      "        predictions = clf.predict_proba(X_test)\n",
      "        #print \"predictions\", predictions\n",
      "        y_prob[test_index] = predictions\n",
      "        y_pred[test_index] = clf.predict(X_test)\n",
      "     \n",
      "    return y_prob, y_pred"
     ],
     "language": "python",
     "metadata": {},
     "outputs": [],
     "prompt_number": 19
    },
    {
     "cell_type": "code",
     "collapsed": false,
     "input": [
      "clf1 = LogisticRegression()\n",
      "clf2 = ExtraTreesClassifier(n_estimators=2000, max_features=None, min_samples_leaf=2,\n",
      "        min_samples_split=3, n_jobs=1, criterion='gini')\n",
      "p2, pred2 = run_cv(X,Y,clf2)\n",
      "print '%.3f' % log_loss(Y, p2)\n",
      "cm = confusion_matrix(Y, pred2)\n",
      "print(cm)"
     ],
     "language": "python",
     "metadata": {},
     "outputs": [
      {
       "output_type": "stream",
       "stream": "stdout",
       "text": [
        "0.217\n",
        "[[1314  227    0]\n",
        " [ 203 2275    0]\n",
        " [   0    5  587]]\n"
       ]
      }
     ],
     "prompt_number": 20
    },
    {
     "cell_type": "code",
     "collapsed": false,
     "input": [],
     "language": "python",
     "metadata": {},
     "outputs": []
    }
   ],
   "metadata": {}
  }
 ]
}