{
 "cells": [
  {
   "cell_type": "code",
   "execution_count": 1,
   "metadata": {
    "collapsed": true
   },
   "outputs": [],
   "source": [
    "#dictionary of opcodes per file\n",
    "\n",
    "import pickle\n",
    "import re\n",
    "import os, os.path\n",
    "import pandas as pd\n",
    "import pickle\n",
    "import sys\n",
    "from sklearn.cross_validation import train_test_split\n",
    "import io\n",
    "'''\n",
    "#returns a list \n",
    "#searches for ' opcode ' from a specified list of opcodes\n",
    "#needs:\n",
    "output_path='/home/rishoo/Downloads/data/pickle/dict.txt' #where to store the output\n",
    "label_csv_path='/home/rishoo/Downloads/data/trainLabels.csv' #path to csv file mapping filenames to labels\n",
    "data_path = '/home/rishoo/Downloads/data/train_tiny_subset/' #path to the data\n",
    "raw_opcode_list=['mov','add','sub'] #list of opcodes to filter\n",
    "'''\n",
    "#output_path='/home/stufs1/nitigupta/512/results/dict_10percent.txt' #where to store the output\n",
    "label_csv_path='/home/rishoo/Downloads/data/trainLabels.csv' #path to csv file mapping filenames to labels\n",
    "data_path = '/home/rishoo/Downloads/data/train_tiny_subset/' #path to the data\n",
    "raw_opcode_list=['mov','add','sub','imul'] #list of opcodes to filter\n",
    " "
   ]
  },
  {
   "cell_type": "code",
   "execution_count": 6,
   "metadata": {
    "collapsed": false
   },
   "outputs": [
    {
     "name": "stdout",
     "output_type": "stream",
     "text": [
      "Begin...\n",
      "Processing...\t 0 \tfilename:  \t 283STBsQaI7Pw9qf0tjy.asm \t\n",
      "{' mov ': 0.8985343855693348, ' add ': 0.07666290868094701, ' sub ': 0.02367531003382187, ' imul ': 0.0}\n",
      "Processing...\t 1 \tfilename:  \t 279EOCqmnPGMfixzTuwJ.asm \t\n",
      "{' mov ': 0.39598997493734334, ' add ': 0.46867167919799496, ' sub ': 0.13283208020050125, ' imul ': 0.0}\n",
      "Processing...\t 2 \tfilename:  \t 175ZU8ClOsnifz03ybcX.asm \t\n",
      "{' mov ': 0.6965687156560134, ' add ': 0.2718590391296524, ' sub ': 0.030284994532644955, ' imul ': 0.0012734092765097512}\n",
      "Done!\n"
     ]
    }
   ],
   "source": [
    "\n",
    "#making list of dict to store counts\n",
    "\n",
    "\n",
    "opcode_dict_l=list()\n",
    "for i in range(0,9):\n",
    "    opcode_dict=dict()\n",
    "    for item in raw_opcode_list:\n",
    "        formatted_opcode=' '+item+' '\n",
    "        opcode_dict[formatted_opcode]=0\n",
    "    opcode_dict_l.append(opcode_dict)\n",
    "\n",
    "def count_opcodes(directory_path,filename):\n",
    "    #byte_limit=100\n",
    "    new_opcode_dict=dict()\n",
    "    for key in opcode_dict.keys():\n",
    "        new_opcode_dict[key] = 0\n",
    "    try:\n",
    "        path=directory_path+filename\n",
    "        openfile = io.open(path,'r',encoding='latin-1')\n",
    "        #openfile = open(path,'rb')\n",
    "        l_lines=openfile.readlines()\n",
    "        count=0\n",
    "        \n",
    "        for line in l_lines:\n",
    "            #match_text=re.search(\"text:\",line)\n",
    "            \n",
    "            #if match_text:\n",
    "                for opcode in opcode_dict.keys():\n",
    "                    #match_opcode=None\n",
    "                    match_opcode=re.search(opcode,line)\n",
    "                    if match_opcode:\n",
    "                    #print (match.group())\n",
    "                        filename_key= filename[:-4]\n",
    "                        if opcode not in new_opcode_dict.keys():\n",
    "                            new_opcode_dict[opcode] = 1\n",
    "                        else:\n",
    "                            new_opcode_dict[opcode] += 1\n",
    "                        #opcode_dict_l[label_d[filename_key]-1][opcode]+=1\n",
    "                        break\n",
    "        openfile.close()\n",
    "    except IOError:\n",
    "        print (\"Could not open file!\")\n",
    "    total=1\n",
    "    for opcode in new_opcode_dict.keys():\n",
    "        total+=new_opcode_dict[opcode]\n",
    "    \n",
    "    for opcode in new_opcode_dict.keys():\n",
    "        new_opcode_dict[opcode] = float(new_opcode_dict[opcode]/total)\n",
    "    return new_opcode_dict\n",
    "\n",
    "count=0\n",
    "print(\"Begin...\")\n",
    "for filename in os.listdir(data_path):\n",
    "    if((filename[-4:])=='.asm'): #.swp files!\n",
    "        if count > 2:\n",
    "            break\n",
    "        else:\n",
    "            # label=label_d[filename_key]  \n",
    "            print(\"Processing...\\t\",count,\"\\tfilename: \",\"\\t\",filename,\"\\t\")\n",
    "            sys.stdout.flush()\n",
    "            print(count_opcodes(data_path,filename))\n",
    "            count+=1\n",
    "\n",
    "print(\"Done!\")\n"
   ]
  },
  {
   "cell_type": "code",
   "execution_count": null,
   "metadata": {
    "collapsed": true
   },
   "outputs": [],
   "source": []
  }
 ],
 "metadata": {
  "kernelspec": {
   "display_name": "Python 3",
   "language": "python",
   "name": "python3"
  },
  "language_info": {
   "codemirror_mode": {
    "name": "ipython",
    "version": 3
   },
   "file_extension": ".py",
   "mimetype": "text/x-python",
   "name": "python",
   "nbconvert_exporter": "python",
   "pygments_lexer": "ipython3",
   "version": "3.4.3"
  }
 },
 "nbformat": 4,
 "nbformat_minor": 0
}
