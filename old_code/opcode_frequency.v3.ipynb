{
 "metadata": {
  "kernelspec": {
   "display_name": "Python 3",
   "language": "python",
   "name": "python3"
  },
  "language_info": {
   "codemirror_mode": {
    "name": "ipython",
    "version": 3
   },
   "file_extension": ".py",
   "mimetype": "text/x-python",
   "name": "python",
   "nbconvert_exporter": "python",
   "pygments_lexer": "ipython3",
   "version": "3.4.3"
  },
  "name": ""
 },
 "nbformat": 3,
 "nbformat_minor": 0,
 "worksheets": [
  {
   "cells": [
    {
     "cell_type": "code",
     "collapsed": true,
     "input": [
      "import pickle\n",
      "import re\n",
      "import os, os.path\n",
      "import pandas as pd\n",
      "import pickle\n",
      "import sys\n",
      "\n",
      "#returns a list \n",
      "#searches for ' opcode ' from a specified list of opcodes\n",
      "#needs:\n",
      "output_path='/home/rishoo/Downloads/data/pickle/dict.txt' #where to store the output\n",
      "label_csv_path='/home/rishoo/Downloads/data/trainLabels.csv' #path to csv file mapping filenames to labels\n",
      "data_path = '/home/rishoo/Downloads/data/train_tiny_subset/' #path to the data\n",
      "raw_opcode_list=['mov','add','sub'] #list of opcodes to filter\n",
      "\n",
      "#doubts:\n",
      "# do i need to filter with .text .much .CODE for beginning of text?\n",
      "#latin-1 encoding being used instead of utf-8... wtf!! "
     ],
     "language": "python",
     "metadata": {},
     "outputs": [],
     "prompt_number": 1
    },
    {
     "cell_type": "code",
     "collapsed": false,
     "input": [
      "#build label dict - filename->labels\n",
      "print(\"extracting labels..\")\n",
      "def get_labels(path,label_d):    \n",
      "    df= pd.read_csv(path)\n",
      "    for index, row in df.iterrows():\n",
      "        label_d[row['Id']]=row['Class']\n",
      "    \n",
      "label_d=dict()\n",
      "get_labels(label_csv_path,label_d)\n",
      "print(\"done extracting labels..\")"
     ],
     "language": "python",
     "metadata": {},
     "outputs": [
      {
       "ename": "IOError",
       "evalue": "File /home/rishoo/Downloads/data/trainLabels.csv does not exist",
       "output_type": "pyerr",
       "traceback": [
        "\u001b[0;31m---------------------------------------------------------------------------\u001b[0m\n\u001b[0;31mIOError\u001b[0m                                   Traceback (most recent call last)",
        "\u001b[0;32m<ipython-input-2-a880c8221508>\u001b[0m in \u001b[0;36m<module>\u001b[0;34m()\u001b[0m\n\u001b[1;32m      7\u001b[0m \u001b[0;34m\u001b[0m\u001b[0m\n\u001b[1;32m      8\u001b[0m \u001b[0mlabel_d\u001b[0m\u001b[0;34m=\u001b[0m\u001b[0mdict\u001b[0m\u001b[0;34m(\u001b[0m\u001b[0;34m)\u001b[0m\u001b[0;34m\u001b[0m\u001b[0m\n\u001b[0;32m----> 9\u001b[0;31m \u001b[0mget_labels\u001b[0m\u001b[0;34m(\u001b[0m\u001b[0mlabel_csv_path\u001b[0m\u001b[0;34m,\u001b[0m\u001b[0mlabel_d\u001b[0m\u001b[0;34m)\u001b[0m\u001b[0;34m\u001b[0m\u001b[0m\n\u001b[0m\u001b[1;32m     10\u001b[0m \u001b[0;32mprint\u001b[0m\u001b[0;34m(\u001b[0m\u001b[0;34m\"done extracting labels..\"\u001b[0m\u001b[0;34m)\u001b[0m\u001b[0;34m\u001b[0m\u001b[0m\n",
        "\u001b[0;32m<ipython-input-2-a880c8221508>\u001b[0m in \u001b[0;36mget_labels\u001b[0;34m(path, label_d)\u001b[0m\n\u001b[1;32m      2\u001b[0m \u001b[0;32mprint\u001b[0m\u001b[0;34m(\u001b[0m\u001b[0;34m\"extracting labels..\"\u001b[0m\u001b[0;34m)\u001b[0m\u001b[0;34m\u001b[0m\u001b[0m\n\u001b[1;32m      3\u001b[0m \u001b[0;32mdef\u001b[0m \u001b[0mget_labels\u001b[0m\u001b[0;34m(\u001b[0m\u001b[0mpath\u001b[0m\u001b[0;34m,\u001b[0m\u001b[0mlabel_d\u001b[0m\u001b[0;34m)\u001b[0m\u001b[0;34m:\u001b[0m\u001b[0;34m\u001b[0m\u001b[0m\n\u001b[0;32m----> 4\u001b[0;31m     \u001b[0mdf\u001b[0m\u001b[0;34m=\u001b[0m \u001b[0mpd\u001b[0m\u001b[0;34m.\u001b[0m\u001b[0mread_csv\u001b[0m\u001b[0;34m(\u001b[0m\u001b[0mpath\u001b[0m\u001b[0;34m)\u001b[0m\u001b[0;34m\u001b[0m\u001b[0m\n\u001b[0m\u001b[1;32m      5\u001b[0m     \u001b[0;32mfor\u001b[0m \u001b[0mindex\u001b[0m\u001b[0;34m,\u001b[0m \u001b[0mrow\u001b[0m \u001b[0;32min\u001b[0m \u001b[0mdf\u001b[0m\u001b[0;34m.\u001b[0m\u001b[0miterrows\u001b[0m\u001b[0;34m(\u001b[0m\u001b[0;34m)\u001b[0m\u001b[0;34m:\u001b[0m\u001b[0;34m\u001b[0m\u001b[0m\n\u001b[1;32m      6\u001b[0m         \u001b[0mlabel_d\u001b[0m\u001b[0;34m[\u001b[0m\u001b[0mrow\u001b[0m\u001b[0;34m[\u001b[0m\u001b[0;34m'Id'\u001b[0m\u001b[0;34m]\u001b[0m\u001b[0;34m]\u001b[0m\u001b[0;34m=\u001b[0m\u001b[0mrow\u001b[0m\u001b[0;34m[\u001b[0m\u001b[0;34m'Class'\u001b[0m\u001b[0;34m]\u001b[0m\u001b[0;34m\u001b[0m\u001b[0m\n",
        "\u001b[0;32m/usr/lib/python2.7/dist-packages/pandas/io/parsers.pyc\u001b[0m in \u001b[0;36mparser_f\u001b[0;34m(filepath_or_buffer, sep, dialect, compression, doublequote, escapechar, quotechar, quoting, skipinitialspace, lineterminator, header, index_col, names, prefix, skiprows, skipfooter, skip_footer, na_values, na_fvalues, true_values, false_values, delimiter, converters, dtype, usecols, engine, delim_whitespace, as_recarray, na_filter, compact_ints, use_unsigned, low_memory, buffer_lines, warn_bad_lines, error_bad_lines, keep_default_na, thousands, comment, decimal, parse_dates, keep_date_col, dayfirst, date_parser, memory_map, nrows, iterator, chunksize, verbose, encoding, squeeze, mangle_dupe_cols, tupleize_cols, infer_datetime_format)\u001b[0m\n\u001b[1;32m    418\u001b[0m                     infer_datetime_format=infer_datetime_format)\n\u001b[1;32m    419\u001b[0m \u001b[0;34m\u001b[0m\u001b[0m\n\u001b[0;32m--> 420\u001b[0;31m         \u001b[0;32mreturn\u001b[0m \u001b[0m_read\u001b[0m\u001b[0;34m(\u001b[0m\u001b[0mfilepath_or_buffer\u001b[0m\u001b[0;34m,\u001b[0m \u001b[0mkwds\u001b[0m\u001b[0;34m)\u001b[0m\u001b[0;34m\u001b[0m\u001b[0m\n\u001b[0m\u001b[1;32m    421\u001b[0m \u001b[0;34m\u001b[0m\u001b[0m\n\u001b[1;32m    422\u001b[0m     \u001b[0mparser_f\u001b[0m\u001b[0;34m.\u001b[0m\u001b[0m__name__\u001b[0m \u001b[0;34m=\u001b[0m \u001b[0mname\u001b[0m\u001b[0;34m\u001b[0m\u001b[0m\n",
        "\u001b[0;32m/usr/lib/python2.7/dist-packages/pandas/io/parsers.pyc\u001b[0m in \u001b[0;36m_read\u001b[0;34m(filepath_or_buffer, kwds)\u001b[0m\n\u001b[1;32m    216\u001b[0m \u001b[0;34m\u001b[0m\u001b[0m\n\u001b[1;32m    217\u001b[0m     \u001b[0;31m# Create the parser.\u001b[0m\u001b[0;34m\u001b[0m\u001b[0;34m\u001b[0m\u001b[0m\n\u001b[0;32m--> 218\u001b[0;31m     \u001b[0mparser\u001b[0m \u001b[0;34m=\u001b[0m \u001b[0mTextFileReader\u001b[0m\u001b[0;34m(\u001b[0m\u001b[0mfilepath_or_buffer\u001b[0m\u001b[0;34m,\u001b[0m \u001b[0;34m**\u001b[0m\u001b[0mkwds\u001b[0m\u001b[0;34m)\u001b[0m\u001b[0;34m\u001b[0m\u001b[0m\n\u001b[0m\u001b[1;32m    219\u001b[0m \u001b[0;34m\u001b[0m\u001b[0m\n\u001b[1;32m    220\u001b[0m     \u001b[0;32mif\u001b[0m \u001b[0mnrows\u001b[0m \u001b[0;32mis\u001b[0m \u001b[0;32mnot\u001b[0m \u001b[0mNone\u001b[0m\u001b[0;34m:\u001b[0m\u001b[0;34m\u001b[0m\u001b[0m\n",
        "\u001b[0;32m/usr/lib/python2.7/dist-packages/pandas/io/parsers.pyc\u001b[0m in \u001b[0;36m__init__\u001b[0;34m(self, f, engine, **kwds)\u001b[0m\n\u001b[1;32m    500\u001b[0m             \u001b[0mself\u001b[0m\u001b[0;34m.\u001b[0m\u001b[0moptions\u001b[0m\u001b[0;34m[\u001b[0m\u001b[0;34m'has_index_names'\u001b[0m\u001b[0;34m]\u001b[0m \u001b[0;34m=\u001b[0m \u001b[0mkwds\u001b[0m\u001b[0;34m[\u001b[0m\u001b[0;34m'has_index_names'\u001b[0m\u001b[0;34m]\u001b[0m\u001b[0;34m\u001b[0m\u001b[0m\n\u001b[1;32m    501\u001b[0m \u001b[0;34m\u001b[0m\u001b[0m\n\u001b[0;32m--> 502\u001b[0;31m         \u001b[0mself\u001b[0m\u001b[0;34m.\u001b[0m\u001b[0m_make_engine\u001b[0m\u001b[0;34m(\u001b[0m\u001b[0mself\u001b[0m\u001b[0;34m.\u001b[0m\u001b[0mengine\u001b[0m\u001b[0;34m)\u001b[0m\u001b[0;34m\u001b[0m\u001b[0m\n\u001b[0m\u001b[1;32m    503\u001b[0m \u001b[0;34m\u001b[0m\u001b[0m\n\u001b[1;32m    504\u001b[0m     \u001b[0;32mdef\u001b[0m \u001b[0m_get_options_with_defaults\u001b[0m\u001b[0;34m(\u001b[0m\u001b[0mself\u001b[0m\u001b[0;34m,\u001b[0m \u001b[0mengine\u001b[0m\u001b[0;34m)\u001b[0m\u001b[0;34m:\u001b[0m\u001b[0;34m\u001b[0m\u001b[0m\n",
        "\u001b[0;32m/usr/lib/python2.7/dist-packages/pandas/io/parsers.pyc\u001b[0m in \u001b[0;36m_make_engine\u001b[0;34m(self, engine)\u001b[0m\n\u001b[1;32m    608\u001b[0m     \u001b[0;32mdef\u001b[0m \u001b[0m_make_engine\u001b[0m\u001b[0;34m(\u001b[0m\u001b[0mself\u001b[0m\u001b[0;34m,\u001b[0m \u001b[0mengine\u001b[0m\u001b[0;34m=\u001b[0m\u001b[0;34m'c'\u001b[0m\u001b[0;34m)\u001b[0m\u001b[0;34m:\u001b[0m\u001b[0;34m\u001b[0m\u001b[0m\n\u001b[1;32m    609\u001b[0m         \u001b[0;32mif\u001b[0m \u001b[0mengine\u001b[0m \u001b[0;34m==\u001b[0m \u001b[0;34m'c'\u001b[0m\u001b[0;34m:\u001b[0m\u001b[0;34m\u001b[0m\u001b[0m\n\u001b[0;32m--> 610\u001b[0;31m             \u001b[0mself\u001b[0m\u001b[0;34m.\u001b[0m\u001b[0m_engine\u001b[0m \u001b[0;34m=\u001b[0m \u001b[0mCParserWrapper\u001b[0m\u001b[0;34m(\u001b[0m\u001b[0mself\u001b[0m\u001b[0;34m.\u001b[0m\u001b[0mf\u001b[0m\u001b[0;34m,\u001b[0m \u001b[0;34m**\u001b[0m\u001b[0mself\u001b[0m\u001b[0;34m.\u001b[0m\u001b[0moptions\u001b[0m\u001b[0;34m)\u001b[0m\u001b[0;34m\u001b[0m\u001b[0m\n\u001b[0m\u001b[1;32m    611\u001b[0m         \u001b[0;32melse\u001b[0m\u001b[0;34m:\u001b[0m\u001b[0;34m\u001b[0m\u001b[0m\n\u001b[1;32m    612\u001b[0m             \u001b[0;32mif\u001b[0m \u001b[0mengine\u001b[0m \u001b[0;34m==\u001b[0m \u001b[0;34m'python'\u001b[0m\u001b[0;34m:\u001b[0m\u001b[0;34m\u001b[0m\u001b[0m\n",
        "\u001b[0;32m/usr/lib/python2.7/dist-packages/pandas/io/parsers.pyc\u001b[0m in \u001b[0;36m__init__\u001b[0;34m(self, src, **kwds)\u001b[0m\n\u001b[1;32m    970\u001b[0m         \u001b[0mkwds\u001b[0m\u001b[0;34m[\u001b[0m\u001b[0;34m'allow_leading_cols'\u001b[0m\u001b[0;34m]\u001b[0m \u001b[0;34m=\u001b[0m \u001b[0mself\u001b[0m\u001b[0;34m.\u001b[0m\u001b[0mindex_col\u001b[0m \u001b[0;32mis\u001b[0m \u001b[0;32mnot\u001b[0m \u001b[0mFalse\u001b[0m\u001b[0;34m\u001b[0m\u001b[0m\n\u001b[1;32m    971\u001b[0m \u001b[0;34m\u001b[0m\u001b[0m\n\u001b[0;32m--> 972\u001b[0;31m         \u001b[0mself\u001b[0m\u001b[0;34m.\u001b[0m\u001b[0m_reader\u001b[0m \u001b[0;34m=\u001b[0m \u001b[0m_parser\u001b[0m\u001b[0;34m.\u001b[0m\u001b[0mTextReader\u001b[0m\u001b[0;34m(\u001b[0m\u001b[0msrc\u001b[0m\u001b[0;34m,\u001b[0m \u001b[0;34m**\u001b[0m\u001b[0mkwds\u001b[0m\u001b[0;34m)\u001b[0m\u001b[0;34m\u001b[0m\u001b[0m\n\u001b[0m\u001b[1;32m    973\u001b[0m \u001b[0;34m\u001b[0m\u001b[0m\n\u001b[1;32m    974\u001b[0m         \u001b[0;31m# XXX\u001b[0m\u001b[0;34m\u001b[0m\u001b[0;34m\u001b[0m\u001b[0m\n",
        "\u001b[0;32m/usr/lib/python2.7/dist-packages/pandas/parser.so\u001b[0m in \u001b[0;36mpandas.parser.TextReader.__cinit__ (pandas/parser.c:3200)\u001b[0;34m()\u001b[0m\n",
        "\u001b[0;32m/usr/lib/python2.7/dist-packages/pandas/parser.so\u001b[0m in \u001b[0;36mpandas.parser.TextReader._setup_parser_source (pandas/parser.c:5559)\u001b[0;34m()\u001b[0m\n",
        "\u001b[0;31mIOError\u001b[0m: File /home/rishoo/Downloads/data/trainLabels.csv does not exist"
       ]
      },
      {
       "output_type": "stream",
       "stream": "stdout",
       "text": [
        "extracting labels..\n"
       ]
      }
     ],
     "prompt_number": 2
    },
    {
     "cell_type": "code",
     "collapsed": false,
     "input": [
      "\n",
      "#making list of dict to store counts\n",
      "\n",
      "opcode_dict_l=list()\n",
      "for i in range(0,9):\n",
      "    opcode_dict=dict()\n",
      "    for item in raw_opcode_list:\n",
      "        formatted_opcode=' '+item+' '\n",
      "        opcode_dict[formatted_opcode]=0\n",
      "    opcode_dict_l.append(opcode_dict)\n",
      "\n",
      "def count_opcodes(directory_path,filename):\n",
      "    #byte_limit=100\n",
      "    try:\n",
      "        path=directory_path+filename\n",
      "        openfile = open(path,'r',encoding='latin-1')\n",
      "        #openfile = open(path,'rb')\n",
      "        l_lines=openfile.readlines()\n",
      "        count=0\n",
      "        for line in l_lines:\n",
      "            #match_text=re.search(\"text:\",line)\n",
      "            \n",
      "            #if match_text:\n",
      "                for opcode in opcode_dict.keys():\n",
      "                    #match_opcode=None\n",
      "                    match_opcode=re.search(opcode,line)\n",
      "                    if match_opcode:\n",
      "                    #print (match.group())\n",
      "                        filename_key= filename[:-4]\n",
      "                        opcode_dict_l[label_d[filename_key]-1][opcode]+=1\n",
      "                        break\n",
      "        openfile.close()\n",
      "    except IOError:\n",
      "        print (\"Could not open file!\")\n",
      "\n",
      "count=0\n",
      "print(\"Begin...\")\n",
      "for filename in os.listdir(data_path):\n",
      "    if((filename[-4:])=='.asm'): #.swp files!\n",
      "        filename_key= filename[:-4]\n",
      "        label=label_d[filename_key]  \n",
      "        print(\"Processing...\\t\",count,\"\\tlabel: \",label,\"\\t\",filename,\"\\t\")\n",
      "        sys.stdout.flush()\n",
      "        count_opcodes(data_path,filename)\n",
      "        count+=1\n",
      "\n",
      "print(\"Done!\")\n"
     ],
     "language": "python",
     "metadata": {},
     "outputs": [
      {
       "output_type": "stream",
       "stream": "stdout",
       "text": [
        "Begin...\n",
        "Processing...\t 0 \tlabel:  2 \t 283STBsQaI7Pw9qf0tjy.asm \t\n",
        "Processing...\t 1 \tlabel:  3 \t 279EOCqmnPGMfixzTuwJ.asm \t\n",
        "Processing...\t 2 \tlabel:  1 \t 175ZU8ClOsnifz03ybcX.asm \t\n",
        "Processing...\t 3 \tlabel:  9 \t 365qzFMSdZmIU1YbfoAx.asm \t\n",
        "Processing...\t 4 \tlabel:  6 \t 387RdPoyKxJIZr1YNcO6.asm \t\n",
        "Processing...\t 5 \tlabel:  2 \t 280npuOwNHdxPDVmAyLT.asm \t\n",
        "Processing...\t 6 \tlabel:  2 \t 495fFS8xhenO7WqZX6uw.asm \t\n",
        "Processing...\t 7 \tlabel:  9 \t 2617zwnbHU3jrseQZim5.asm \t\n",
        "Processing...\t 8 \tlabel:  8 \t 250wWOtELFspbVRJAaNn.asm \t\n",
        "Processing...\t 9 \tlabel:  3 \t 30259LfMxFdATBcqNOi1.asm \t\n",
        "Processing...\t 10 \tlabel:  3 \t 129LWuNOIS0RjQnq5om6.asm \t\n",
        "Processing...\t 11 \tlabel:  8 \t 351BNOEjS9pHWAqhJQdD.asm \t\n",
        "Processing...\t 12 \tlabel:  1 \t 418XPavxNpslKmeoTUwJ.asm \t\n",
        "Processing...\t 13 \tlabel:  3 \t 409FLy5cim8qgxjYobET.asm \t\n",
        "Processing...\t 14 \tlabel:  9 \t 294DyEi30U6TVeFSrClm.asm \t\n",
        "Processing...\t 15 \tlabel:  2 \t 369xrHyDKegPqFMYWQJu.asm \t\n",
        "Processing...\t 16 \tlabel:  2 \t 421g5mO6zfBFPM8KwXh9.asm \t\n",
        "Processing...\t 17 \tlabel:  1 \t 420SDzWFNamqIiHBYjPu.asm \t\n",
        "Processing...\t 18 \tlabel:  9 \t 148bgAqCj3NzaHwSP0Gu.asm \t\n",
        "Processing...\t 19 \tlabel:  1 \t 2037kCYJ5fZKPw4oDGX1.asm \t\n",
        "Processing...\t 20 \tlabel:  8 \t 426c9FYfeVQbJnygpdKH.asm \t\n",
        "Processing...\t 21 \tlabel:  9 \t 198PdXRpGVZAzYxCrF0e.asm \t\n",
        "Processing...\t 22 \tlabel:  8 \t 295nPpgmDUkQw4TScqfh.asm \t\n",
        "Processing...\t 23 \tlabel:  3 \t 194Iy5xv8QRz7XMTnmAk.asm \t\n",
        "Done!\n"
       ]
      }
     ],
     "prompt_number": 3
    },
    {
     "cell_type": "code",
     "collapsed": false,
     "input": [
      "print(\"Pickling...\")\n",
      "dumpfile=open(output_path,'wb')\n",
      "pickle.dump(opcode_dict_l,dumpfile)\n",
      "dumpfile.close()\n",
      "unpickled_file=open(output_path,'rb')\n",
      "print(\"Done Pickling...\")\n",
      "unpickled_dict=pickle.load(unpickled_file)\n",
      "unpickled_dict"
     ],
     "language": "python",
     "metadata": {},
     "outputs": [
      {
       "output_type": "stream",
       "stream": "stdout",
       "text": [
        "Pickling...\n",
        "Done Pickling...\n"
       ]
      },
      {
       "metadata": {},
       "output_type": "pyout",
       "prompt_number": 4,
       "text": [
        "[{' add ': 21897, ' mov ': 66121, ' sub ': 2918},\n",
        " {' add ': 1220, ' mov ': 49810, ' sub ': 982},\n",
        " {' add ': 702, ' mov ': 708, ' sub ': 245},\n",
        " {' add ': 0, ' mov ': 0, ' sub ': 0},\n",
        " {' add ': 0, ' mov ': 0, ' sub ': 0},\n",
        " {' add ': 157, ' mov ': 584, ' sub ': 127},\n",
        " {' add ': 0, ' mov ': 0, ' sub ': 0},\n",
        " {' add ': 1166, ' mov ': 8113, ' sub ': 997},\n",
        " {' add ': 1642, ' mov ': 9642, ' sub ': 1572}]"
       ]
      }
     ],
     "prompt_number": 4
    },
    {
     "cell_type": "code",
     "collapsed": true,
     "input": [],
     "language": "python",
     "metadata": {},
     "outputs": []
    },
    {
     "cell_type": "code",
     "collapsed": true,
     "input": [],
     "language": "python",
     "metadata": {},
     "outputs": []
    }
   ],
   "metadata": {}
  }
 ]
}